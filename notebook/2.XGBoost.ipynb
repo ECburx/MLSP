{
 "cells": [
  {
   "cell_type": "markdown",
   "source": [
    "## XGBoost"
   ],
   "metadata": {
    "collapsed": false
   },
   "id": "bdd70d978966c50"
  },
  {
   "cell_type": "code",
   "execution_count": 135,
   "id": "initial_id",
   "metadata": {
    "collapsed": true,
    "ExecuteTime": {
     "end_time": "2024-05-13T01:43:04.791629Z",
     "start_time": "2024-05-13T01:43:04.788670Z"
    }
   },
   "outputs": [],
   "source": [
    "import numpy as np\n",
    "import pandas as pd\n",
    "import xgboost as xgb\n",
    "from sklearn.metrics import root_mean_squared_error, r2_score, cohen_kappa_score\n",
    "from hyperopt import STATUS_OK, Trials, fmin, hp, tpe\n",
    "from sklearn.model_selection import KFold\n",
    "from sklearn.inspection import permutation_importance\n",
    "import shap\n",
    "from statistics import mode\n",
    "import seaborn as sns\n",
    "import matplotlib.pyplot as plt\n",
    "from collections import defaultdict"
   ]
  },
  {
   "cell_type": "markdown",
   "source": [
    "### Regression Problems"
   ],
   "metadata": {
    "collapsed": false
   },
   "id": "38f6c1c1cdf9d2a5"
  },
  {
   "cell_type": "code",
   "outputs": [],
   "source": [
    "trn = pd.read_csv(\"../data/trn.reg.csv.gz\", compression='gzip', low_memory=False)\n",
    "tst = pd.read_csv(\"../data/tst.reg.csv.gz\", compression='gzip', low_memory=False)\n",
    "\n",
    "trn_X = trn.drop([\"SMILES\", \"ref\", \"set\", \"name\", \"LogS\"], axis=1)\n",
    "tst_X = tst.drop([\"SMILES\", \"set\", \"name\", \"LogS\"], axis=1)\n",
    "trn_y = trn[\"LogS\"]\n",
    "tst_y = tst[\"LogS\"]"
   ],
   "metadata": {
    "collapsed": false,
    "ExecuteTime": {
     "end_time": "2024-05-13T00:21:30.309101Z",
     "start_time": "2024-05-13T00:21:25.988469Z"
    }
   },
   "id": "c2ca1ac6336a473f",
   "execution_count": 2
  },
  {
   "cell_type": "markdown",
   "source": [
    "Hyper-parameter Tuning."
   ],
   "metadata": {
    "collapsed": false
   },
   "id": "559a793f0be06096"
  },
  {
   "cell_type": "code",
   "outputs": [],
   "source": [
    "tune_space = {\n",
    "    \"eta\": hp.choice(\"eta\", [0.01, 0.1, 0.3]),\n",
    "    \"gamma\": hp.uniform(\"gamma\", 1, 9),\n",
    "    \"alpha\": hp.quniform(\"alpha\", 40, 180, 1),\n",
    "    \"lambda\": hp.uniform(\"lambda\", 0, 1),\n",
    "    \"max_depth\": hp.randint(\"max_depth\", 6, 10),\n",
    "    \"min_child_weight\": hp.quniform(\"min_child_weight\", 0, 10, 1),\n",
    "    \"colsample_bytree\": hp.uniform(\"colsample_bytree\", 0.5, 1),\n",
    "\n",
    "    \"objective\": \"reg:squarederror\",\n",
    "\n",
    "    \"booster\": \"gbtree\",  # [\"gbtree\", \"gblinear\", \"dart\"]\n",
    "    \"eval_metric\": \"rmse\",\n",
    "    \"tree_method\": \"auto\",  # [\"auto\", \"hist\", \"exact\", \"approx\"]\n",
    "\n",
    "    \"num_boost_round\": hp.choice(\"num_boost_round\", [100, 200, 300]),\n",
    "    \"nfold\": 5\n",
    "}"
   ],
   "metadata": {
    "collapsed": false,
    "ExecuteTime": {
     "end_time": "2024-05-13T00:55:37.708698Z",
     "start_time": "2024-05-13T00:55:37.704830Z"
    }
   },
   "id": "893eb3daec3deb36",
   "execution_count": 48
  },
  {
   "cell_type": "code",
   "outputs": [],
   "source": [
    "def tune_obj(space):\n",
    "    eval_history = xgb.cv(\n",
    "        params={\n",
    "            \"eta\": space[\"eta\"],\n",
    "            \"gamma\": space[\"gamma\"],\n",
    "            \"alpha\": space[\"alpha\"],\n",
    "            \"lambda\": space[\"lambda\"],\n",
    "            \"max_depth\": space[\"max_depth\"],\n",
    "            \"min_child_weight\": space[\"min_child_weight\"],\n",
    "            \"colsample_bytree\": space[\"colsample_bytree\"],\n",
    "\n",
    "            \"objective\": space[\"objective\"],\n",
    "            \"booster\": space[\"booster\"],\n",
    "            \"eval_metric\": space[\"eval_metric\"],\n",
    "            \"tree_method\": space[\"tree_method\"]\n",
    "        },\n",
    "        dtrain=xgb.DMatrix(data=trn_X, label=trn_y),\n",
    "        num_boost_round=space[\"num_boost_round\"],\n",
    "        metrics=space[\"eval_metric\"],\n",
    "        nfold=space[\"nfold\"]\n",
    "    )\n",
    "    return {\n",
    "        \"loss\": min(eval_history[\"test-rmse-mean\"]),\n",
    "        'status': STATUS_OK\n",
    "    }"
   ],
   "metadata": {
    "collapsed": false,
    "ExecuteTime": {
     "end_time": "2024-05-12T23:14:39.226710Z",
     "start_time": "2024-05-12T23:14:39.221920Z"
    }
   },
   "id": "886731d96c2ce621",
   "execution_count": 13
  },
  {
   "cell_type": "code",
   "outputs": [],
   "source": [
    "trials = Trials()\n",
    "best_params = fmin(\n",
    "    fn=tune_obj,\n",
    "    space=tune_space,\n",
    "    algo=tpe.suggest,\n",
    "    max_evals=500,\n",
    "    trials=trials\n",
    ")"
   ],
   "metadata": {
    "collapsed": false
   },
   "id": "b9cdbf7af4fde48",
   "execution_count": null
  },
  {
   "cell_type": "code",
   "outputs": [],
   "source": [
    "best_params"
   ],
   "metadata": {
    "collapsed": false
   },
   "id": "cf9d0a08f7fb86cf",
   "execution_count": null
  },
  {
   "cell_type": "code",
   "outputs": [],
   "source": [
    "best_params = {\n",
    "    \"eta\": 0.1,\n",
    "    \"gamma\": 1.0137931490200134,\n",
    "    \"alpha\": 40.0,\n",
    "    \"lambda\": 0.3650826004579582,\n",
    "    \"max_depth\": 6,\n",
    "    \"min_child_weight\": 0,\n",
    "    \"colsample_bytree\": 0.7217948417944005,\n",
    "\n",
    "    \"objective\": \"reg:squarederror\",\n",
    "    \"booster\": \"gbtree\",\n",
    "    \"eval_metric\": \"rmse\",\n",
    "    \"tree_method\": \"auto\",\n",
    "\n",
    "    \"num_boost_round\": 100,\n",
    "    \"early_stopping_rounds\": 10,\n",
    "    \"nfold\": 5\n",
    "}"
   ],
   "metadata": {
    "collapsed": false,
    "ExecuteTime": {
     "end_time": "2024-05-13T00:21:38.287269Z",
     "start_time": "2024-05-13T00:21:38.284084Z"
    }
   },
   "id": "5e34534e48a20777",
   "execution_count": 3
  },
  {
   "cell_type": "markdown",
   "source": [
    "K-fold CV."
   ],
   "metadata": {
    "collapsed": false
   },
   "id": "d4e549b119cd8087"
  },
  {
   "cell_type": "code",
   "outputs": [],
   "source": [
    "def k_fold_CV(n_splits=5):\n",
    "    kf = KFold(n_splits=n_splits, shuffle=True)\n",
    "    rmse, r2 = [], []\n",
    "\n",
    "    for trn_idx, val_idx in kf.split(trn_X):\n",
    "        tX, vX = trn_X.loc[trn_idx], trn_X.loc[val_idx]\n",
    "        ty, vy = trn_y[trn_idx], trn_y[val_idx]\n",
    "        booster = xgb.XGBRegressor(\n",
    "            n_estimators=best_params[\"num_boost_round\"],\n",
    "            max_depth=best_params[\"max_depth\"],\n",
    "            learning_rate=best_params[\"eta\"],\n",
    "            objective=\"reg:squarederror\",\n",
    "            booster=best_params[\"booster\"],\n",
    "            tree_method=best_params[\"tree_method\"],\n",
    "            gamma=best_params[\"gamma\"],\n",
    "            min_child_weight=best_params[\"min_child_weight\"],\n",
    "            colsample_bytree=best_params[\"colsample_bytree\"],\n",
    "            reg_alpha=best_params[\"alpha\"],\n",
    "            reg_lambda=best_params[\"lambda\"],\n",
    "            eval_metric=best_params[\"eval_metric\"]\n",
    "        )\n",
    "        booster.fit(tX, ty, eval_set=[(vX, vy)], verbose=0)\n",
    "\n",
    "        pred_val = booster.predict(vX)\n",
    "        rmse.append(root_mean_squared_error(vy, pred_val))\n",
    "        r2.append(r2_score(vy, pred_val))\n",
    "\n",
    "    return pd.DataFrame({\"rmse\": rmse, \"r2\": r2})"
   ],
   "metadata": {
    "collapsed": false,
    "ExecuteTime": {
     "end_time": "2024-05-12T23:15:35.605541Z",
     "start_time": "2024-05-12T23:15:35.599456Z"
    }
   },
   "id": "b4fc569c655252c6",
   "execution_count": 18
  },
  {
   "cell_type": "code",
   "outputs": [],
   "source": [
    "pd.concat([k_fold_CV() for _ in range(10)])"
   ],
   "metadata": {
    "collapsed": false
   },
   "id": "53f69432f6ffb59e",
   "execution_count": null
  },
  {
   "cell_type": "markdown",
   "source": [
    "Prediction and estimation."
   ],
   "metadata": {
    "collapsed": false
   },
   "id": "d9d99eaf662b34a3"
  },
  {
   "cell_type": "code",
   "outputs": [],
   "source": [
    "def predict():\n",
    "    kf = KFold(n_splits=5, shuffle=True)\n",
    "    prediction = []\n",
    "    boosters = []\n",
    "    for trn_idx, val_idx in kf.split(trn_X):\n",
    "        tX, vX = trn_X.loc[trn_idx], trn_X.loc[val_idx]\n",
    "        ty, vy = trn_y[trn_idx], trn_y[val_idx]\n",
    "        booster = xgb.XGBRegressor(\n",
    "            n_estimators=best_params[\"num_boost_round\"],\n",
    "            max_depth=best_params[\"max_depth\"],\n",
    "            # learning_rate=best_params[\"eta\"],\n",
    "            objective=\"reg:squarederror\",\n",
    "            # booster=best_params[\"booster\"],\n",
    "            # tree_method=best_params[\"tree_method\"],\n",
    "            # gamma=best_params[\"gamma\"],\n",
    "            # min_child_weight=best_params[\"min_child_weight\"],\n",
    "            # colsample_bytree=best_params[\"colsample_bytree\"],\n",
    "            # reg_alpha=best_params[\"alpha\"],\n",
    "            # reg_lambda=best_params[\"lambda\"],\n",
    "            # eval_metric=best_params[\"eval_metric\"],\n",
    "            # early_stopping_rounds=20\n",
    "        )\n",
    "        booster.fit(tX, ty, eval_set=[(vX, vy)], verbose=0)\n",
    "        prediction.append(booster.predict(tst_X))\n",
    "        boosters.append(booster)\n",
    "\n",
    "    return np.mean(prediction, axis=0), boosters"
   ],
   "metadata": {
    "collapsed": false,
    "ExecuteTime": {
     "end_time": "2024-05-13T00:28:22.998303Z",
     "start_time": "2024-05-13T00:28:22.994251Z"
    }
   },
   "id": "a9addfa1b68d2c6e",
   "execution_count": 13
  },
  {
   "cell_type": "code",
   "outputs": [],
   "source": [
    "preds, boosters = zip(*[predict() for _ in range(50)])\n",
    "preds = pd.concat([pd.Series(p) for p in preds], axis=1)"
   ],
   "metadata": {
    "collapsed": false,
    "ExecuteTime": {
     "end_time": "2024-05-13T00:30:33.031777Z",
     "start_time": "2024-05-13T00:28:23.545595Z"
    }
   },
   "id": "9619de2ca267b86d",
   "execution_count": 14
  },
  {
   "cell_type": "code",
   "outputs": [],
   "source": [
    "rmse, r2 = defaultdict(list), defaultdict(list)\n",
    "\n",
    "for pred in [preds[c] for c in preds.columns]:\n",
    "    df = pd.DataFrame({\"pred\": pred, \"set\": tst[\"set\"], \"true\": tst[\"LogS\"]})\n",
    "    for s in df[\"set\"].unique():\n",
    "        p = df[df[\"set\"] == s]\n",
    "        rmse[s].append(root_mean_squared_error(p[\"true\"], p[\"pred\"]))\n",
    "        r2[s].append(r2_score(p[\"true\"], p[\"pred\"]))"
   ],
   "metadata": {
    "collapsed": false,
    "ExecuteTime": {
     "end_time": "2024-05-13T00:30:33.045002Z",
     "start_time": "2024-05-13T00:30:33.032780Z"
    }
   },
   "id": "9a9d5ab991d93035",
   "execution_count": 15
  },
  {
   "cell_type": "code",
   "outputs": [
    {
     "name": "stdout",
     "output_type": "stream",
     "text": [
      "[2008SC Test Set] rmse:1.03±0.01 r2:0.43±0.01\n",
      "[2019SC Testset 1] rmse:0.84±0.01 r2:0.41±0.02\n",
      "[2019SC Testset 2] rmse:1.60±0.05 r2:0.36±0.04\n"
     ]
    }
   ],
   "source": [
    "for s in rmse.keys():\n",
    "    print(f\"[{s}] rmse:{np.mean(rmse[s]):.2f}±{np.std(rmse[s]):.2f} r2:{np.mean(r2[s]):.2f}±{np.std(r2[s]):.2f}\")"
   ],
   "metadata": {
    "collapsed": false,
    "ExecuteTime": {
     "end_time": "2024-05-13T00:30:33.058528Z",
     "start_time": "2024-05-13T00:30:33.046004Z"
    }
   },
   "id": "53b68999f1643045",
   "execution_count": 16
  },
  {
   "cell_type": "code",
   "outputs": [
    {
     "data": {
      "text/plain": "<Figure size 1500x500 with 3 Axes>",
      "image/png": "[encoded data removed]"
     },
     "metadata": {},
     "output_type": "display_data"
    }
   ],
   "source": [
    "def subplot(x, y, ax):\n",
    "    ax.scatter(x, y)\n",
    "    ax.set_xlim((min(min(x), min(y)) - 0.1, max(max(x), max(y)) + 0.1))\n",
    "    ax.set_ylim((min(min(x), min(y)) - 0.1, max(max(x), max(y)) + 0.1))\n",
    "    x0, x1 = ax.get_xlim()\n",
    "    y0, y1 = ax.get_ylim()\n",
    "    ax.set_aspect(abs(x1 - x0) / abs(y1 - y0))\n",
    "    ax.grid(which='major', linestyle='--')\n",
    "    ax.plot([min(min(x), min(y)), max(max(x), max(y))], [min(min(x), min(y)), max(max(x), max(y))], 'k')\n",
    "    a, b = np.polyfit(x, y, 1)\n",
    "    y_fit = a * x + b\n",
    "    ax.plot(x, y_fit)\n",
    "    ax.set_xlabel(\"log$S$ Experimental\")\n",
    "    ax.set_ylabel(\"log$S$ Predicted\")\n",
    "\n",
    "\n",
    "model_name = \"XGBoost\"\n",
    "fig, axs = plt.subplots(nrows=1, ncols=3, figsize=(5 * 3, 5))\n",
    "df = pd.DataFrame({\"pred\": preds.iloc[:, np.argmin(np.array(list(rmse.values())).mean(axis=0))],\n",
    "                   \"set\": tst[\"set\"], \"true\": tst[\"LogS\"]})\n",
    "for s, ax in zip(rmse.keys(), axs):\n",
    "    idx = tst[tst[\"set\"] == s].index\n",
    "    t = df[\"true\"].loc[idx]\n",
    "    p = df[\"pred\"].loc[idx]\n",
    "    subplot(t, p, ax)\n",
    "    ax.grid(False)\n",
    "    ax.set_title(f\"{s} ({model_name})   \"\n",
    "                 f\"RMSE: {root_mean_squared_error(t, p):.2f}, \"\n",
    "                 f\"R$^2$: {r2_score(t, p):.2f}\")"
   ],
   "metadata": {
    "collapsed": false,
    "ExecuteTime": {
     "end_time": "2024-05-13T00:30:45.022575Z",
     "start_time": "2024-05-13T00:30:44.365188Z"
    }
   },
   "id": "1de41bfb427fff57",
   "execution_count": 17
  },
  {
   "cell_type": "markdown",
   "source": [
    "Permutation Feature Importance"
   ],
   "metadata": {
    "collapsed": false
   },
   "id": "2501845194577b67"
  },
  {
   "cell_type": "code",
   "outputs": [],
   "source": [
    "pi = [\n",
    "    permutation_importance(booster, tst_X, tst_y, n_jobs=-1)\n",
    "    for booster in list(np.concatenate(boosters))\n",
    "]"
   ],
   "metadata": {
    "collapsed": false,
    "ExecuteTime": {
     "end_time": "2024-05-13T00:38:42.451816Z",
     "start_time": "2024-05-13T00:32:07.157932Z"
    }
   },
   "id": "64e5243b95c849c0",
   "execution_count": 21
  },
  {
   "cell_type": "code",
   "outputs": [],
   "source": [
    "perm_importance = pd.concat([pd.DataFrame(pi[i].importances_mean) for i in range(len(pi))], axis=1)\n",
    "perm_importance.index = trn_X.columns\n",
    "perm_importance_mean = perm_importance.mean(axis=1)\n",
    "min_v, max_v = perm_importance.min().min(), perm_importance.max().max()\n",
    "perm_importance_sort = ((perm_importance - min_v) / (max_v - min_v)).loc[\n",
    "    perm_importance_mean.sort_values(ascending=False).index]\n",
    "perm_importance_sort"
   ],
   "metadata": {
    "collapsed": false
   },
   "id": "3366f423d7bad751",
   "execution_count": null
  },
  {
   "cell_type": "markdown",
   "source": [
    "SHAP feature importance. (Tree Explainer)"
   ],
   "metadata": {
    "collapsed": false
   },
   "id": "84acbb337fb4fe2d"
  },
  {
   "cell_type": "code",
   "outputs": [],
   "source": [
    "si = [\n",
    "    shap.TreeExplainer(booster).shap_values(tst_X, tst_y)\n",
    "    for booster in list(np.concatenate(boosters))\n",
    "]"
   ],
   "metadata": {
    "collapsed": false,
    "ExecuteTime": {
     "end_time": "2024-05-13T00:43:45.725715Z",
     "start_time": "2024-05-13T00:43:42.772418Z"
    }
   },
   "id": "fe969f565c8f469c",
   "execution_count": 31
  },
  {
   "cell_type": "code",
   "outputs": [],
   "source": [
    "shap_importance = pd.concat([pd.Series(np.abs(s).mean(0)) for s in si], axis=1)\n",
    "shap_importance.index = trn_X.columns\n",
    "shap_importance_mean = shap_importance.mean(axis=1)\n",
    "min_v, max_v = shap_importance.min().min(), shap_importance.max().max()\n",
    "shap_importance_sort = ((shap_importance_mean - min_v) / (max_v - min_v)).loc[\n",
    "    shap_importance_mean.sort_values(ascending=False).index]\n",
    "shap_importance_sort"
   ],
   "metadata": {
    "collapsed": false
   },
   "id": "98efe13c8fbd281e",
   "execution_count": null
  },
  {
   "cell_type": "markdown",
   "source": [
    "## Classification Problem"
   ],
   "metadata": {
    "collapsed": false
   },
   "id": "339c981f4161223d"
  },
  {
   "cell_type": "code",
   "outputs": [],
   "source": [
    "trn = pd.concat([pd.read_csv(f\"../data/trn.EUOS-SLAS.Part{i}.csv.gz\") for i in range(1, 9)])\n",
    "tst = pd.concat([pd.read_csv(f\"../data/tst.EUOS-SLAS.Part{i}.csv.gz\") for i in range(1, 5)])\n",
    "\n",
    "trn_X = trn.drop([\"SMILES\", \"SMILES.1\", \"solubility\", \"Id\"], axis=1)\n",
    "tst_X = tst.drop([\"SMILES\", \"SMILES.1\", \"Id\"], axis=1)\n",
    "trn_y = trn[\"solubility\"]"
   ],
   "metadata": {
    "collapsed": false,
    "ExecuteTime": {
     "end_time": "2024-05-13T01:37:23.571128Z",
     "start_time": "2024-05-13T01:37:23.479435Z"
    }
   },
   "id": "ae42fe9b7ca98685",
   "execution_count": 125
  },
  {
   "cell_type": "code",
   "outputs": [],
   "source": [
    "tune_space = {\n",
    "    \"eta\": hp.choice(\"eta\", [0.01, 0.1, 0.3]),\n",
    "    \"gamma\": hp.uniform(\"gamma\", 1, 9),\n",
    "    \"alpha\": hp.quniform(\"alpha\", 40, 180, 1),\n",
    "    \"lambda\": hp.uniform(\"lambda\", 0, 1),\n",
    "    \"max_depth\": hp.randint(\"max_depth\", 6, 10),\n",
    "    \"min_child_weight\": hp.quniform(\"min_child_weight\", 0, 10, 1),\n",
    "    \"colsample_bytree\": hp.uniform(\"colsample_bytree\", 0.5, 1),\n",
    "\n",
    "    \"objective\": \"multi:softmax\",\n",
    "\n",
    "    \"booster\": \"gbtree\",  # [\"gbtree\", \"gblinear\", \"dart\"]\n",
    "    \"eval_metric\": \"mlogloss\",\n",
    "    \"tree_method\": \"auto\",  # [\"auto\", \"hist\", \"exact\", \"approx\"]\n",
    "\n",
    "    \"num_boost_round\": hp.choice(\"num_boost_round\", [100, 200, 300]),\n",
    "    \"nfold\": 5\n",
    "}"
   ],
   "metadata": {
    "collapsed": false,
    "ExecuteTime": {
     "end_time": "2024-05-13T01:25:06.352658Z",
     "start_time": "2024-05-13T01:25:06.348822Z"
    }
   },
   "id": "16468258652c2dc3",
   "execution_count": 107
  },
  {
   "cell_type": "code",
   "outputs": [],
   "source": [
    "def tune_obj(space):\n",
    "    eval_history = xgb.cv(\n",
    "        params={\n",
    "            \"eta\": space[\"eta\"],\n",
    "            \"gamma\": space[\"gamma\"],\n",
    "            \"alpha\": space[\"alpha\"],\n",
    "            \"lambda\": space[\"lambda\"],\n",
    "            \"max_depth\": space[\"max_depth\"],\n",
    "            \"min_child_weight\": space[\"min_child_weight\"],\n",
    "            \"colsample_bytree\": space[\"colsample_bytree\"],\n",
    "\n",
    "            \"objective\": space[\"objective\"],\n",
    "            'num_class': 3,\n",
    "            \"booster\": space[\"booster\"],\n",
    "            \"eval_metric\": space[\"eval_metric\"],\n",
    "            \"tree_method\": space[\"tree_method\"]\n",
    "        },\n",
    "        dtrain=xgb.DMatrix(data=trn_X, label=trn_y),\n",
    "        num_boost_round=space[\"num_boost_round\"],\n",
    "        metrics=space[\"eval_metric\"],\n",
    "        nfold=space[\"nfold\"]\n",
    "    )\n",
    "    return {\n",
    "        \"loss\": min(eval_history[\"test-mlogloss-mean\"]),\n",
    "        'status': STATUS_OK\n",
    "    }"
   ],
   "metadata": {
    "collapsed": false,
    "ExecuteTime": {
     "end_time": "2024-05-13T01:26:06.467206Z",
     "start_time": "2024-05-13T01:26:06.463726Z"
    }
   },
   "id": "ea55323bcf6cf9d4",
   "execution_count": 112
  },
  {
   "cell_type": "code",
   "outputs": [],
   "source": [
    "trials = Trials()\n",
    "best_params = fmin(\n",
    "    fn=tune_obj,\n",
    "    space=tune_space,\n",
    "    algo=tpe.suggest,\n",
    "    max_evals=500,\n",
    "    trials=trials\n",
    ")"
   ],
   "metadata": {
    "collapsed": false
   },
   "id": "2876a4601e81805b",
   "execution_count": null
  },
  {
   "cell_type": "code",
   "outputs": [],
   "source": [
    "best_params = {\n",
    "    \"eta\": 0.1,\n",
    "    \"gamma\": 1.0137931490200134,\n",
    "    \"alpha\": 40.0,\n",
    "    \"lambda\": 0.3650826004579582,\n",
    "    \"max_depth\": 6,\n",
    "    \"min_child_weight\": 0,\n",
    "    \"colsample_bytree\": 0.7217948417944005,\n",
    "\n",
    "    \"objective\": \"multi:softmax\",\n",
    "    \"booster\": \"gbtree\",\n",
    "    \"eval_metric\": \"mlogloss\",\n",
    "    \"tree_method\": \"auto\",\n",
    "\n",
    "    \"num_boost_round\": 100,\n",
    "    \"early_stopping_rounds\": 10,\n",
    "    \"nfold\": 5\n",
    "}"
   ],
   "metadata": {
    "collapsed": false,
    "ExecuteTime": {
     "end_time": "2024-05-13T01:36:27.804488Z",
     "start_time": "2024-05-13T01:36:27.800968Z"
    }
   },
   "id": "4d680fc8976a92c2",
   "execution_count": 120
  },
  {
   "cell_type": "markdown",
   "source": [
    "K-fold CV."
   ],
   "metadata": {
    "collapsed": false
   },
   "id": "e2eb7d7d63ef137"
  },
  {
   "cell_type": "code",
   "outputs": [],
   "source": [
    "def k_fold_CV(n_splits=5):\n",
    "    kf = KFold(n_splits=n_splits, shuffle=True)\n",
    "    qck = []\n",
    "\n",
    "    for trn_idx, val_idx in kf.split(trn_X):\n",
    "        tX, vX = trn_X.loc[trn_idx], trn_X.loc[val_idx]\n",
    "        ty, vy = trn_y[trn_idx], trn_y[val_idx]\n",
    "        booster = xgb.XGBClassifier(\n",
    "            num_class=3,\n",
    "            # n_estimators=best_params[\"num_boost_round\"],\n",
    "            # max_depth=best_params[\"max_depth\"],\n",
    "            # learning_rate=best_params[\"eta\"],\n",
    "            objective=\"multi:softmax\",\n",
    "            # gamma=best_params[\"gamma\"],\n",
    "            # min_child_weight=best_params[\"min_child_weight\"],\n",
    "            # colsample_bytree=best_params[\"colsample_bytree\"],\n",
    "            # reg_alpha=best_params[\"alpha\"],\n",
    "            # reg_lambda=best_params[\"lambda\"],\n",
    "            eval_metric=best_params[\"eval_metric\"]\n",
    "        )\n",
    "        booster.fit(tX, ty, eval_set=[(vX, vy)], verbose=0)\n",
    "\n",
    "        pred_val = booster.predict(vX)\n",
    "        qck.append(cohen_kappa_score(vy, pred_val, weights=\"quadratic\"))\n",
    "\n",
    "    return pd.DataFrame({\"QCK\": qck})"
   ],
   "metadata": {
    "collapsed": false,
    "ExecuteTime": {
     "end_time": "2024-05-13T01:37:26.857267Z",
     "start_time": "2024-05-13T01:37:26.854013Z"
    }
   },
   "id": "849612c7f898c696",
   "execution_count": 126
  },
  {
   "cell_type": "code",
   "outputs": [],
   "source": [
    "pd.concat([k_fold_CV() for _ in range(10)])"
   ],
   "metadata": {
    "collapsed": false
   },
   "id": "90aefcef1cc95480",
   "execution_count": null
  },
  {
   "cell_type": "markdown",
   "source": [
    "Prediction and estimation."
   ],
   "metadata": {
    "collapsed": false
   },
   "id": "8a81b8f8659fdcf0"
  },
  {
   "cell_type": "code",
   "outputs": [],
   "source": [
    "def predict():\n",
    "    kf = KFold(n_splits=5, shuffle=True)\n",
    "    prediction = []\n",
    "    for trn_idx, val_idx in kf.split(trn_X):\n",
    "        tX, vX = trn_X.loc[trn_idx], trn_X.loc[val_idx]\n",
    "        ty, vy = trn_y[trn_idx], trn_y[val_idx]\n",
    "        booster = xgb.XGBClassifier(\n",
    "            num_class=3,\n",
    "            # n_estimators=best_params[\"num_boost_round\"],\n",
    "            # max_depth=best_params[\"max_depth\"],\n",
    "            # learning_rate=best_params[\"eta\"],\n",
    "            objective=\"multi:softmax\",\n",
    "            # gamma=best_params[\"gamma\"],\n",
    "            # min_child_weight=best_params[\"min_child_weight\"],\n",
    "            # colsample_bytree=best_params[\"colsample_bytree\"],\n",
    "            # reg_alpha=best_params[\"alpha\"],\n",
    "            # reg_lambda=best_params[\"lambda\"],\n",
    "            eval_metric=best_params[\"eval_metric\"]\n",
    "        )\n",
    "        booster.fit(tX, ty, eval_set=[(vX, vy)], verbose=0)\n",
    "        prediction.append(booster.predict(tst_X))\n",
    "\n",
    "    return np.array([mode(p) for p in list(zip(*prediction))])"
   ],
   "metadata": {
    "collapsed": false,
    "ExecuteTime": {
     "end_time": "2024-05-13T01:43:09.773685Z",
     "start_time": "2024-05-13T01:43:09.769742Z"
    }
   },
   "id": "f8981fdfdb02ca4b",
   "execution_count": 136
  },
  {
   "cell_type": "code",
   "outputs": [],
   "source": [
    "preds = [predict() for _ in range(50)]\n",
    "preds = pd.DataFrame([p for p in preds]).transpose()\n",
    "preds"
   ],
   "metadata": {
    "collapsed": false
   },
   "id": "c40f4bd3a4bb0a8d",
   "execution_count": null
  },
  {
   "cell_type": "markdown",
   "source": [
    "Upload the predictions to the challenge to get feedback on the model's performance."
   ],
   "metadata": {
    "collapsed": false
   },
   "id": "4b2864dd3950718b"
  }
 ],
 "metadata": {
  "kernelspec": {
   "display_name": "Python 3",
   "language": "python",
   "name": "python3"
  },
  "language_info": {
   "codemirror_mode": {
    "name": "ipython",
    "version": 2
   },
   "file_extension": ".py",
   "mimetype": "text/x-python",
   "name": "python",
   "nbconvert_exporter": "python",
   "pygments_lexer": "ipython2",
   "version": "2.7.6"
  }
 },
 "nbformat": 4,
 "nbformat_minor": 5
}
