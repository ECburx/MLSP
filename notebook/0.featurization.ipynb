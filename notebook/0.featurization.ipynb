{
 "cells": [
  {
   "cell_type": "code",
   "execution_count": 1,
   "id": "initial_id",
   "metadata": {
    "collapsed": true,
    "ExecuteTime": {
     "end_time": "2024-05-16T16:56:04.525255Z",
     "start_time": "2024-05-16T16:56:04.522393Z"
    }
   },
   "outputs": [],
   "source": [
    "import pandas as pd\n",
    "import seaborn as sns\n",
    "import matplotlib.pyplot as plt"
   ]
  },
  {
   "cell_type": "code",
   "outputs": [],
   "source": [
    "trn_reg = pd.read_csv(\"../data/trn.reg.csv.gz\", compression='gzip', low_memory=False)\n",
    "tst_reg = pd.read_csv(\"../data/tst.reg.csv.gz\", compression='gzip', low_memory=False)\n",
    "trn_cls = pd.read_csv(\"../data/trn.EUOS-SLAS.csv.gz\", compression='gzip')\n",
    "tst_cls = pd.read_csv(\"../data/tst.EUOS-SLAS.csv.gz\", compression='gzip')"
   ],
   "metadata": {
    "collapsed": false,
    "ExecuteTime": {
     "end_time": "2024-05-16T16:56:13.904318Z",
     "start_time": "2024-05-16T16:56:09.593608Z"
    }
   },
   "id": "29422c7ce07b00e3",
   "execution_count": 2
  },
  {
   "cell_type": "code",
   "outputs": [
    {
     "name": "stdout",
     "output_type": "stream",
     "text": [
      "<class 'pandas.core.frame.DataFrame'>\n",
      "RangeIndex: 14432 entries, 0 to 14431\n",
      "Columns: 4467 entries, SMILES to CDKZagreb\n",
      "dtypes: float64(1408), int64(3055), object(4)\n",
      "memory usage: 491.8+ MB\n"
     ]
    }
   ],
   "source": [
    "trn_reg.info()"
   ],
   "metadata": {
    "collapsed": false,
    "ExecuteTime": {
     "end_time": "2024-05-16T16:56:22.166133Z",
     "start_time": "2024-05-16T16:56:22.109349Z"
    }
   },
   "id": "81f1bebb55ca61b1",
   "execution_count": 4
  },
  {
   "cell_type": "code",
   "outputs": [
    {
     "data": {
      "text/plain": "<Figure size 500x500 with 1 Axes>",
      "image/png": "[encoded data removed]"
     },
     "metadata": {},
     "output_type": "display_data"
    }
   ],
   "source": [
    "# Distribution of $\\log S$ values in the training data prepared for regression problems.\n",
    "_, ax = plt.subplots(figsize=(5, 5))\n",
    "sns.histplot(trn_reg[\"LogS\"], kde=True, bins=50, ax=ax)\n",
    "ax.set_xlabel(\"Log $S$ exp (mol/L)\", fontsize=12)\n",
    "ax.set_ylabel(\"count\", fontsize=12)\n",
    "ax.grid(False)\n",
    "plt.show()"
   ],
   "metadata": {
    "collapsed": false,
    "ExecuteTime": {
     "end_time": "2024-05-16T16:57:23.302589Z",
     "start_time": "2024-05-16T16:57:23.174828Z"
    }
   },
   "id": "4c7c0939ef22b42d",
   "execution_count": 5
  },
  {
   "cell_type": "markdown",
   "source": [
    "## (Re-)Featurization using 2D Molecular Descriptors\n",
    "\n",
    "The provided dataset already includes featurized molecular descriptors. Running the code in this section is optional."
   ],
   "metadata": {
    "collapsed": false
   },
   "id": "d14e639d19288639"
  },
  {
   "cell_type": "code",
   "outputs": [],
   "source": [
    "from data.featurization.base import BaseRepresentation\n",
    "from data.featurization.rdkit import Rdkit2D\n",
    "from data.featurization.mordred import Mordred\n",
    "from data.featurization.MACCSKeys import MACCSKeys\n",
    "from data.featurization.circular import Circular\n",
    "from data.featurization.mol2vec import Mol2Vec"
   ],
   "metadata": {
    "collapsed": false,
    "ExecuteTime": {
     "end_time": "2024-05-12T15:55:15.325846Z",
     "start_time": "2024-05-12T15:55:15.310429Z"
    }
   },
   "id": "ab096fa817c70171",
   "execution_count": 4
  },
  {
   "cell_type": "code",
   "outputs": [],
   "source": [
    "def featurize(featurizer: BaseRepresentation, df):\n",
    "    return featurizer.convert(df[\"SMILES\"]).add_prefix(featurizer.__class__.__name__)"
   ],
   "metadata": {
    "collapsed": false,
    "ExecuteTime": {
     "end_time": "2024-05-12T15:55:17.106303Z",
     "start_time": "2024-05-12T15:55:17.102675Z"
    }
   },
   "id": "b8bd86b58031de09",
   "execution_count": 5
  },
  {
   "cell_type": "code",
   "outputs": [],
   "source": [
    "pd.concat([\n",
    "    trn_reg,\n",
    "    featurize(Rdkit2D(), trn_reg),\n",
    "    featurize(Mordred(), trn_reg),\n",
    "    featurize(MACCSKeys(), trn_reg),\n",
    "    featurize(Circular(), trn_reg),\n",
    "], axis=1)#.to_csv(\"../data/trn.reg.csv.gz\", compression=\"gzip\")\n",
    "pd.concat([\n",
    "    trn_cls,\n",
    "    featurize(Rdkit2D(), trn_cls),\n",
    "    featurize(Mordred(), trn_cls),\n",
    "    featurize(MACCSKeys(), trn_cls),\n",
    "    featurize(Circular(), trn_cls),\n",
    "], axis=1)#.to_csv(\"../data/trn.EUOS-SLAS.csv.gz\", compression=\"gzip\")"
   ],
   "metadata": {
    "collapsed": false
   },
   "id": "2e718187739356c6",
   "execution_count": null
  },
  {
   "cell_type": "code",
   "outputs": [],
   "source": [
    "pd.concat([\n",
    "    tst_reg,\n",
    "    featurize(Rdkit2D(), tst_reg),\n",
    "    featurize(Mordred(), tst_reg),\n",
    "    featurize(MACCSKeys(), tst_reg),\n",
    "    featurize(Circular(), tst_reg),\n",
    "], axis=1)#.to_csv(\"../data/tst.reg.csv.gz\", compression=\"gzip\")\n",
    "pd.concat([\n",
    "    tst_cls,\n",
    "    featurize(Rdkit2D(), tst_cls),\n",
    "    featurize(Mordred(), tst_cls),\n",
    "    featurize(MACCSKeys(), tst_cls),\n",
    "    featurize(Circular(), tst_cls),\n",
    "], axis=1)#.to_csv(\"../data/tst.EUOS-SLAS.csv.gz\", compression=\"gzip\")"
   ],
   "metadata": {
    "collapsed": false,
    "ExecuteTime": {
     "end_time": "2024-05-12T16:17:39.312439Z",
     "start_time": "2024-05-12T16:17:26.436626Z"
    }
   },
   "id": "c3e43d11cd70c73c",
   "execution_count": 7
  },
  {
   "cell_type": "markdown",
   "source": [
    "Don't forget to use Java script to generate CDK descriptors.\n",
    "\n",
    "Execute the following command:\n",
    "\n",
    "```\n",
    "cd cdk\n",
    "<jdk\\bin\\java.exe> -classpath <classpath>;lib\\cdk-2.8.jar;lib\\commons-collections4-4.1.jar;lib\\commons-beanutils-1.9.4.jar;lib\\opencsv-5.7.1.jar;lib\\slf4j-api-2.0.6.jar Main <dataset.csv>\n",
    "```\n",
    "\n",
    "Modify the path as needed. Note that the Java script expects the input file `<dataset.csv>` to include a column named `SMILES`."
   ],
   "metadata": {
    "collapsed": false
   },
   "id": "b8cc8a1d1a88ba0b"
  },
  {
   "cell_type": "code",
   "outputs": [],
   "source": [],
   "metadata": {
    "collapsed": false
   },
   "id": "9ff4969b76bfae68"
  }
 ],
 "metadata": {
  "kernelspec": {
   "display_name": "Python 3",
   "language": "python",
   "name": "python3"
  },
  "language_info": {
   "codemirror_mode": {
    "name": "ipython",
    "version": 2
   },
   "file_extension": ".py",
   "mimetype": "text/x-python",
   "name": "python",
   "nbconvert_exporter": "python",
   "pygments_lexer": "ipython2",
   "version": "2.7.6"
  }
 },
 "nbformat": 4,
 "nbformat_minor": 5
}
