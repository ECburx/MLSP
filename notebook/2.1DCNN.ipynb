{
 "cells": [
  {
   "cell_type": "markdown",
   "source": [
    "## 1DCNN"
   ],
   "metadata": {
    "collapsed": false
   },
   "id": "1608e03a6d01c50e"
  },
  {
   "cell_type": "code",
   "outputs": [],
   "source": [
    "import pandas as pd\n",
    "import numpy as np\n",
    "from sklearn.metrics import root_mean_squared_error, r2_score, cohen_kappa_score, make_scorer\n",
    "from sklearn.model_selection import KFold\n",
    "from model.cnn1d.CNN1D import CNN1D\n",
    "from sklearn.inspection import permutation_importance\n",
    "import shap\n",
    "import matplotlib.pyplot as plt\n",
    "from sklearn.preprocessing import MinMaxScaler\n",
    "from collections import defaultdict\n",
    "from statistics import mode"
   ],
   "metadata": {
    "collapsed": false
   },
   "id": "d0dbe9129e81c76c",
   "execution_count": null
  },
  {
   "cell_type": "markdown",
   "source": [
    "### Regression Problems"
   ],
   "metadata": {
    "collapsed": false
   },
   "id": "2bc3f8a276aff735"
  },
  {
   "cell_type": "code",
   "outputs": [],
   "source": [
    "trn = pd.read_csv(\"../data/trn.reg.csv.gz\", compression='gzip', low_memory=False)\n",
    "tst = pd.read_csv(\"../data/tst.reg.csv.gz\", compression='gzip', low_memory=False)\n",
    "\n",
    "trn_X = trn.drop([\"SMILES\", \"ref\", \"set\", \"name\", \"LogS\"], axis=1)\n",
    "tst_X = tst.drop([\"SMILES\", \"set\", \"name\", \"LogS\"], axis=1)\n",
    "trn_y = trn[\"LogS\"]\n",
    "tst_y = tst[\"LogS\"]"
   ],
   "metadata": {
    "collapsed": false
   },
   "id": "1276a4711ad65a0f",
   "execution_count": null
  },
  {
   "cell_type": "code",
   "outputs": [],
   "source": [
    "scaler = MinMaxScaler()\n",
    "trn_X = pd.DataFrame(scaler.fit_transform(trn_X))\n",
    "tst_X = pd.DataFrame(scaler.transform(tst_X))"
   ],
   "metadata": {
    "collapsed": false
   },
   "id": "ea418f8586f3a424",
   "execution_count": null
  },
  {
   "cell_type": "markdown",
   "source": [
    "K-fold CV."
   ],
   "metadata": {
    "collapsed": false
   },
   "id": "81ac64e4ebb3b28b"
  },
  {
   "cell_type": "code",
   "outputs": [],
   "source": [
    "def k_fold_CV(n_splits=5):\n",
    "    kf = KFold(n_splits=n_splits, shuffle=True)\n",
    "    rmse, r2 = [], []\n",
    "\n",
    "    for trn_idx, val_idx in kf.split(trn_X):\n",
    "        tX, vX = trn_X.loc[trn_idx], trn_X.loc[val_idx]\n",
    "        ty, vy = trn_y[trn_idx], trn_y[val_idx]\n",
    "        model = CNN1D(\n",
    "            n_tasks=1,\n",
    "            in_feats=tX.shape[1],\n",
    "            lr=0.0001,\n",
    "            weight_decay=0.01,\n",
    "        )\n",
    "        model.fit(tX, ty, val_X=vX, val_y=vy,\n",
    "                  max_epochs=1000, min_epochs=500, early_stop=20, batch_size=128)\n",
    "\n",
    "        pred_val = model.predict(vX)\n",
    "        rmse.append(root_mean_squared_error(vy, pred_val))\n",
    "        r2.append(r2_score(vy, pred_val))\n",
    "\n",
    "    return pd.DataFrame({\"rmse\": rmse, \"r2\": r2})"
   ],
   "metadata": {
    "collapsed": false
   },
   "id": "67491c78ad4e2246",
   "execution_count": null
  },
  {
   "cell_type": "code",
   "outputs": [],
   "source": [
    "pd.concat([k_fold_CV() for _ in range(10)])"
   ],
   "metadata": {
    "collapsed": false
   },
   "id": "cec9e7a1209d069a",
   "execution_count": null
  },
  {
   "cell_type": "markdown",
   "source": [
    "Prediction and estimation."
   ],
   "metadata": {
    "collapsed": false
   },
   "id": "9bb9ba57b84b121e"
  },
  {
   "cell_type": "code",
   "outputs": [],
   "source": [
    "def predict():\n",
    "    kf = KFold(n_splits=5, shuffle=True)\n",
    "    prediction = []\n",
    "    models = []\n",
    "    for trn_idx, val_idx in kf.split(trn_X):\n",
    "        tX, vX = trn_X.loc[trn_idx], trn_X.loc[val_idx]\n",
    "        ty, vy = trn_y[trn_idx], trn_y[val_idx]\n",
    "        model = CNN1D(\n",
    "            n_tasks=1,\n",
    "            in_feats=tX.shape[1],\n",
    "            lr=0.0001,\n",
    "            weight_decay=0.01,\n",
    "        )\n",
    "        model.fit(tX, ty, val_X=vX, val_y=vy,\n",
    "                  max_epochs=1000, min_epochs=500, early_stop=20, batch_size=128)\n",
    "        prediction.append(model.predict(tst_X))\n",
    "        models.append(model)\n",
    "\n",
    "    return np.mean(prediction, axis=0), models"
   ],
   "metadata": {
    "collapsed": false
   },
   "id": "df018e78406548be",
   "execution_count": null
  },
  {
   "cell_type": "code",
   "outputs": [],
   "source": [
    "preds, models = zip(*[predict() for _ in range(50)])\n",
    "preds = pd.concat([pd.Series(p.flatten()) for p in preds], axis=1)"
   ],
   "metadata": {
    "collapsed": false
   },
   "id": "fa83b0af5df73394",
   "execution_count": null
  },
  {
   "cell_type": "code",
   "outputs": [],
   "source": [
    "rmse, r2 = defaultdict(list), defaultdict(list)\n",
    "\n",
    "for pred in [preds[c] for c in preds.columns]:\n",
    "    df = pd.DataFrame({\"pred\": pred, \"set\": tst[\"set\"], \"true\": tst[\"LogS\"]})\n",
    "    for s in df[\"set\"].unique():\n",
    "        p = df[df[\"set\"] == s]\n",
    "        rmse[s].append(root_mean_squared_error(p[\"true\"], p[\"pred\"]))\n",
    "        r2[s].append(r2_score(p[\"true\"], p[\"pred\"]))"
   ],
   "metadata": {
    "collapsed": false
   },
   "id": "4cce4583d4c05fb7",
   "execution_count": null
  },
  {
   "cell_type": "code",
   "outputs": [],
   "source": [
    "for s in rmse.keys():\n",
    "    print(f\"[{s}] rmse:{np.mean(rmse[s]):.2f}±{np.std(rmse[s]):.2f} r2:{np.mean(r2[s]):.2f}±{np.std(r2[s]):.2f}\")"
   ],
   "metadata": {
    "collapsed": false
   },
   "id": "ea48df1cec3b2a8e",
   "execution_count": null
  },
  {
   "cell_type": "code",
   "outputs": [],
   "source": [
    "def subplot(x, y, ax):\n",
    "    ax.scatter(x, y)\n",
    "    ax.set_xlim((min(min(x), min(y)) - 0.1, max(max(x), max(y)) + 0.1))\n",
    "    ax.set_ylim((min(min(x), min(y)) - 0.1, max(max(x), max(y)) + 0.1))\n",
    "    x0, x1 = ax.get_xlim()\n",
    "    y0, y1 = ax.get_ylim()\n",
    "    ax.set_aspect(abs(x1 - x0) / abs(y1 - y0))\n",
    "    ax.grid(which='major', linestyle='--')\n",
    "    ax.plot([min(min(x), min(y)), max(max(x), max(y))], [min(min(x), min(y)), max(max(x), max(y))], 'k')\n",
    "    a, b = np.polyfit(x, y, 1)\n",
    "    y_fit = a * x + b\n",
    "    ax.plot(x, y_fit)\n",
    "    ax.set_xlabel(\"log$S$ Experimental\")\n",
    "    ax.set_ylabel(\"log$S$ Predicted\")\n",
    "\n",
    "\n",
    "model_name = \"1DCNN\"\n",
    "fig, axs = plt.subplots(nrows=1, ncols=3, figsize=(5 * 3, 5))\n",
    "df = pd.DataFrame({\"pred\": preds.iloc[:, np.argmin(np.array(list(rmse.values())).mean(axis=0))],\n",
    "                   \"set\": tst[\"set\"], \"true\": tst[\"LogS\"]})\n",
    "for s, ax in zip(rmse.keys(), axs):\n",
    "    idx = tst[tst[\"set\"] == s].index\n",
    "    t = df[\"true\"].loc[idx]\n",
    "    p = df[\"pred\"].loc[idx]\n",
    "    subplot(t, p, ax)\n",
    "    ax.grid(False)\n",
    "    ax.set_title(f\"{s} ({model_name})   \"\n",
    "                 f\"RMSE: {root_mean_squared_error(t, p):.2f}, \"\n",
    "                 f\"R$^2$: {r2_score(t, p):.2f}\")"
   ],
   "metadata": {
    "collapsed": false
   },
   "id": "7915f3c1e1d6b4ee",
   "execution_count": null
  },
  {
   "cell_type": "markdown",
   "source": [
    "Permutation Feature Importance"
   ],
   "metadata": {
    "collapsed": false
   },
   "id": "fa874a55f0bb33ce"
  },
  {
   "cell_type": "code",
   "outputs": [],
   "source": [
    "pi = [\n",
    "    permutation_importance(model, tst_X, tst_y, scoring=make_scorer(root_mean_squared_error))\n",
    "    for model in list(np.concatenate(models))\n",
    "]"
   ],
   "metadata": {
    "collapsed": false
   },
   "id": "f2d04206860957fa",
   "execution_count": null
  },
  {
   "cell_type": "code",
   "outputs": [],
   "source": [
    "perm_importance = pd.concat([pd.DataFrame(pi[i].importances_mean) for i in range(len(pi))], axis=1)\n",
    "perm_importance.index = trn_X.columns\n",
    "perm_importance_mean = perm_importance.mean(axis=1)\n",
    "min_v, max_v = perm_importance.min().min(), perm_importance.max().max()\n",
    "perm_importance_sort = ((perm_importance - min_v) / (max_v - min_v)).loc[\n",
    "    perm_importance_mean.sort_values(ascending=False).index]\n",
    "perm_importance_sort"
   ],
   "metadata": {
    "collapsed": false
   },
   "id": "3db918670a5bc941",
   "execution_count": null
  },
  {
   "cell_type": "markdown",
   "source": [
    "SHAP feature importance. (Tree Explainer)"
   ],
   "metadata": {
    "collapsed": false
   },
   "id": "f4c12d9c9ce65eab"
  },
  {
   "cell_type": "code",
   "outputs": [],
   "source": [
    "si = [\n",
    "    shap.PermutationExplainer(model.predict, tst_X).shap_values(tst_X)\n",
    "    for model in list(np.concatenate(models))\n",
    "]"
   ],
   "metadata": {
    "collapsed": false
   },
   "id": "6e87583d90a5c2e5",
   "execution_count": null
  },
  {
   "cell_type": "code",
   "outputs": [],
   "source": [
    "shap_importance = pd.concat([pd.Series(np.abs(s).mean(0)) for s in si], axis=1)\n",
    "shap_importance.index = trn_X.columns\n",
    "shap_importance_mean = shap_importance.mean(axis=1)\n",
    "min_v, max_v = shap_importance.min().min(), shap_importance.max().max()\n",
    "shap_importance_sort = ((shap_importance_mean - min_v) / (max_v - min_v)).loc[\n",
    "    shap_importance_mean.sort_values(ascending=False).index]\n",
    "shap_importance_sort"
   ],
   "metadata": {
    "collapsed": false
   },
   "id": "d046409a99e78f78"
  },
  {
   "cell_type": "markdown",
   "source": [
    "## Classification Problem"
   ],
   "metadata": {
    "collapsed": false
   },
   "id": "a8fd68f247c75906"
  },
  {
   "cell_type": "code",
   "execution_count": null,
   "id": "initial_id",
   "metadata": {
    "collapsed": true
   },
   "outputs": [],
   "source": [
    "trn = pd.concat([pd.read_csv(f\"../data/trn.EUOS-SLAS.Part{i}.csv.gz\") for i in range(1, 9)])\n",
    "tst = pd.concat([pd.read_csv(f\"../data/tst.EUOS-SLAS.Part{i}.csv.gz\") for i in range(1, 5)])\n",
    "\n",
    "trn_X = trn.drop([\"SMILES\", \"SMILES.1\", \"solubility\", \"Id\"], axis=1)\n",
    "tst_X = tst.drop([\"SMILES\", \"SMILES.1\", \"Id\"], axis=1)\n",
    "trn_y = trn[\"solubility\"]"
   ]
  },
  {
   "cell_type": "markdown",
   "source": [
    "K-fold CV."
   ],
   "metadata": {
    "collapsed": false
   },
   "id": "94bcbbdd32bc905a"
  },
  {
   "cell_type": "code",
   "outputs": [],
   "source": [
    "def k_fold_CV(n_splits=5):\n",
    "    kf = KFold(n_splits=n_splits, shuffle=True)\n",
    "    qck = []\n",
    "\n",
    "    for trn_idx, val_idx in kf.split(trn_X):\n",
    "        tX, vX = trn_X.loc[trn_idx], trn_X.loc[val_idx]\n",
    "        ty, vy = trn_y[trn_idx], trn_y[val_idx]\n",
    "        model = CNN1D(\n",
    "            n_tasks=3,\n",
    "            in_feats=tX.shape[1],\n",
    "            lr=0.0001,\n",
    "            weight_decay=0.01,\n",
    "        )\n",
    "        model.fit(tX, ty, val_X=vX, val_y=vy,\n",
    "                  max_epochs=1000, min_epochs=500, early_stop=20, batch_size=128)\n",
    "\n",
    "        pred_val = model.predict(vX)\n",
    "        pred_val = np.argmax(pred_val, axis=1)\n",
    "        qck.append(cohen_kappa_score(vy, pred_val, weights=\"quadratic\"))\n",
    "\n",
    "    return pd.DataFrame({\"QCK\": qck})"
   ],
   "metadata": {
    "collapsed": false
   },
   "id": "26e73a144dd97169",
   "execution_count": null
  },
  {
   "cell_type": "code",
   "outputs": [],
   "source": [
    "pd.concat([k_fold_CV() for _ in range(10)])"
   ],
   "metadata": {
    "collapsed": false
   },
   "id": "33188a3d3dd9881",
   "execution_count": null
  },
  {
   "cell_type": "markdown",
   "source": [
    "Prediction and estimation."
   ],
   "metadata": {
    "collapsed": false
   },
   "id": "98650437a3b604e4"
  },
  {
   "cell_type": "code",
   "outputs": [],
   "source": [
    "def predict():\n",
    "    kf = KFold(n_splits=5, shuffle=True)\n",
    "    prediction = []\n",
    "    for trn_idx, val_idx in kf.split(trn_X):\n",
    "        tX, vX = trn_X.loc[trn_idx], trn_X.loc[val_idx]\n",
    "        ty, vy = trn_y[trn_idx], trn_y[val_idx]\n",
    "        model = CNN1D(\n",
    "            n_tasks=3,\n",
    "            in_feats=tX.shape[1],\n",
    "            lr=0.0001,\n",
    "            weight_decay=0.01,\n",
    "        )\n",
    "        model.fit(tX, ty, val_X=vX, val_y=vy,\n",
    "                  max_epochs=1000, min_epochs=500, early_stop=20, batch_size=128)\n",
    "        prediction.append(np.argmax(model.predict(tst_X), axis=1))\n",
    "\n",
    "    return np.array([mode(p) for p in list(zip(*prediction))])"
   ],
   "metadata": {
    "collapsed": false
   },
   "id": "86fcb5cf2d7a2d1e",
   "execution_count": null
  },
  {
   "cell_type": "code",
   "outputs": [],
   "source": [
    "preds = [predict() for _ in range(50)]\n",
    "preds = pd.DataFrame([p for p in preds]).transpose()\n",
    "preds"
   ],
   "metadata": {
    "collapsed": false
   },
   "id": "7b85277e7502bdd3",
   "execution_count": null
  },
  {
   "cell_type": "raw",
   "source": [
    "Upload the predictions to the challenge to get feedback on the model's performance."
   ],
   "metadata": {
    "collapsed": false
   },
   "id": "566bddb9af84e576"
  }
 ],
 "metadata": {
  "kernelspec": {
   "display_name": "Python 3",
   "language": "python",
   "name": "python3"
  },
  "language_info": {
   "codemirror_mode": {
    "name": "ipython",
    "version": 2
   },
   "file_extension": ".py",
   "mimetype": "text/x-python",
   "name": "python",
   "nbconvert_exporter": "python",
   "pygments_lexer": "ipython2",
   "version": "2.7.6"
  }
 },
 "nbformat": 4,
 "nbformat_minor": 5
}
