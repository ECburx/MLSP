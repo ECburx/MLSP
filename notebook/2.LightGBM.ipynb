{
 "cells": [
  {
   "cell_type": "markdown",
   "source": [
    "## LightGBM"
   ],
   "metadata": {
    "collapsed": false
   },
   "id": "447987f2f216c788"
  },
  {
   "cell_type": "code",
   "outputs": [],
   "source": [
    "import numpy as np\n",
    "import pandas as pd\n",
    "import lightgbm as lgb\n",
    "from sklearn.metrics import root_mean_squared_error, r2_score, cohen_kappa_score\n",
    "from hyperopt import STATUS_OK, Trials, fmin, hp, tpe\n",
    "from sklearn.model_selection import KFold\n",
    "from sklearn.inspection import permutation_importance\n",
    "import shap\n",
    "from statistics import mode\n",
    "import seaborn as sns\n",
    "import matplotlib.pyplot as plt\n",
    "from collections import defaultdict"
   ],
   "metadata": {
    "collapsed": false,
    "ExecuteTime": {
     "end_time": "2024-05-13T03:35:22.322860Z",
     "start_time": "2024-05-13T03:35:19.998376Z"
    }
   },
   "id": "8b14c5e66110cb7f",
   "execution_count": 1
  },
  {
   "cell_type": "markdown",
   "source": [
    "### Regression Problems"
   ],
   "metadata": {
    "collapsed": false
   },
   "id": "550e86537cea32a0"
  },
  {
   "cell_type": "code",
   "outputs": [],
   "source": [
    "trn = pd.read_csv(\"../data/trn.reg.csv.gz\", compression='gzip', low_memory=False)\n",
    "tst = pd.read_csv(\"../data/tst.reg.csv.gz\", compression='gzip', low_memory=False)\n",
    "\n",
    "trn_X = trn.drop([\"SMILES\", \"ref\", \"set\", \"name\", \"LogS\"], axis=1)\n",
    "tst_X = tst.drop([\"SMILES\", \"set\", \"name\", \"LogS\"], axis=1)\n",
    "trn_y = trn[\"LogS\"]\n",
    "tst_y = tst[\"LogS\"]"
   ],
   "metadata": {
    "collapsed": false,
    "ExecuteTime": {
     "end_time": "2024-05-13T03:35:27.171551Z",
     "start_time": "2024-05-13T03:35:22.322860Z"
    }
   },
   "id": "8d7aec6d6459ca19",
   "execution_count": 2
  },
  {
   "cell_type": "markdown",
   "source": [
    "Hyper-parameter Tuning."
   ],
   "metadata": {
    "collapsed": false
   },
   "id": "e63a1abe755b6262"
  },
  {
   "cell_type": "code",
   "outputs": [],
   "source": [
    "tune_space = {\n",
    "    \"learning_rate\": hp.choice(\"learning_rate\", [0.1, 0.01, 0.001]),\n",
    "    \"n_estimators\": hp.choice(\"n_estimators\", [100, 200, 300, 400]),\n",
    "    \"reg_alpha\": hp.uniform(\"reg_alpha\", 0, 1),\n",
    "    \"reg_lambda\": hp.uniform(\"reg_lambda\", 0, 1),\n",
    "}"
   ],
   "metadata": {
    "collapsed": false,
    "ExecuteTime": {
     "end_time": "2024-05-13T03:35:27.174516Z",
     "start_time": "2024-05-13T03:35:27.171551Z"
    }
   },
   "id": "69eb0d50abf8b340",
   "execution_count": 3
  },
  {
   "cell_type": "code",
   "outputs": [],
   "source": [
    "def tune_obj(space):\n",
    "    kf = KFold(n_splits=5, shuffle=True)\n",
    "    rmse = []\n",
    "\n",
    "    for trn_idx, val_idx in kf.split(trn_X):\n",
    "        tX, vX = trn_X.iloc[trn_idx], trn_X.iloc[val_idx]\n",
    "        ty, vy = trn_y.iloc[trn_idx], trn_y.iloc[val_idx]\n",
    "\n",
    "        booster = lgb.LGBMRegressor(\n",
    "            learning_rate=space[\"learning_rate\"],\n",
    "            n_estimators=space[\"n_estimators\"],\n",
    "            n_jobs=10,\n",
    "            reg_alpha=space[\"reg_alpha\"],\n",
    "            reg_lambda=space[\"reg_lambda\"],\n",
    "        )\n",
    "        booster.fit(tX, ty)\n",
    "\n",
    "        pred = booster.predict(vX)\n",
    "        rmse.append(root_mean_squared_error(vy, pred))\n",
    "\n",
    "    return {\"loss\": np.mean(rmse), 'status': STATUS_OK}"
   ],
   "metadata": {
    "collapsed": false,
    "ExecuteTime": {
     "end_time": "2024-05-13T03:35:27.182419Z",
     "start_time": "2024-05-13T03:35:27.174516Z"
    }
   },
   "id": "77df4371e19b2ac5",
   "execution_count": 4
  },
  {
   "cell_type": "code",
   "outputs": [],
   "source": [
    "trials = Trials()\n",
    "best_params = fmin(\n",
    "    fn=tune_obj,\n",
    "    space=tune_space,\n",
    "    algo=tpe.suggest,\n",
    "    max_evals=500,\n",
    "    trials=trials\n",
    ")"
   ],
   "metadata": {
    "collapsed": false
   },
   "id": "2db54ea4680d4c32",
   "execution_count": null
  },
  {
   "cell_type": "code",
   "outputs": [],
   "source": [
    "best_params"
   ],
   "metadata": {
    "collapsed": false
   },
   "id": "afd562d82869269a",
   "execution_count": null
  },
  {
   "cell_type": "markdown",
   "source": [
    "K-fold CV."
   ],
   "metadata": {
    "collapsed": false
   },
   "id": "e3c0b31e26c7d9fd"
  },
  {
   "cell_type": "code",
   "outputs": [],
   "source": [
    "def k_fold_CV(n_splits=5):\n",
    "    kf = KFold(n_splits=n_splits, shuffle=True)\n",
    "    rmse, r2 = [], []\n",
    "\n",
    "    for trn_idx, val_idx in kf.split(trn_X):\n",
    "        tX, vX = trn_X.loc[trn_idx], trn_X.loc[val_idx]\n",
    "        ty, vy = trn_y[trn_idx], trn_y[val_idx]\n",
    "        booster = lgb.LGBMRegressor(\n",
    "            learning_rate=0.01,\n",
    "            n_estimators=500,\n",
    "            verbosity=0\n",
    "        )\n",
    "        booster.fit(tX, ty, eval_set=[(vX, vy)])\n",
    "\n",
    "        pred_val = booster.predict(vX)\n",
    "        rmse.append(root_mean_squared_error(vy, pred_val))\n",
    "        r2.append(r2_score(vy, pred_val))\n",
    "\n",
    "    return pd.DataFrame({\"rmse\": rmse, \"r2\": r2})"
   ],
   "metadata": {
    "collapsed": false,
    "ExecuteTime": {
     "end_time": "2024-05-13T03:39:15.546515Z",
     "start_time": "2024-05-13T03:39:15.542625Z"
    }
   },
   "id": "a047416c9918a1dc",
   "execution_count": 7
  },
  {
   "cell_type": "code",
   "outputs": [],
   "source": [
    "pd.concat([k_fold_CV() for _ in range(10)])"
   ],
   "metadata": {
    "collapsed": false
   },
   "id": "94e51d37915e1e74",
   "execution_count": null
  },
  {
   "cell_type": "markdown",
   "source": [
    "Prediction and estimation."
   ],
   "metadata": {
    "collapsed": false
   },
   "id": "600befa56f20b9bb"
  },
  {
   "cell_type": "code",
   "outputs": [],
   "source": [
    "def predict():\n",
    "    kf = KFold(n_splits=5, shuffle=True)\n",
    "    prediction = []\n",
    "    boosters = []\n",
    "    for trn_idx, val_idx in kf.split(trn_X):\n",
    "        tX, vX = trn_X.loc[trn_idx], trn_X.loc[val_idx]\n",
    "        ty, vy = trn_y[trn_idx], trn_y[val_idx]\n",
    "        booster = lgb.LGBMRegressor(\n",
    "            learning_rate=0.01,\n",
    "            n_estimators=500,\n",
    "            verbosity=0\n",
    "        )\n",
    "        booster.fit(tX, ty, eval_set=[(vX, vy)])\n",
    "        prediction.append(booster.predict(tst_X))\n",
    "        boosters.append(booster)\n",
    "\n",
    "    return np.mean(prediction, axis=0), boosters"
   ],
   "metadata": {
    "collapsed": false,
    "ExecuteTime": {
     "end_time": "2024-05-13T03:40:55.469346Z",
     "start_time": "2024-05-13T03:40:55.465755Z"
    }
   },
   "id": "8706293ebb1b246b",
   "execution_count": 9
  },
  {
   "cell_type": "code",
   "outputs": [],
   "source": [
    "preds, boosters = zip(*[predict() for _ in range(50)])\n",
    "preds = pd.concat([pd.Series(p) for p in preds], axis=1)"
   ],
   "metadata": {
    "collapsed": false,
    "ExecuteTime": {
     "end_time": "2024-05-13T03:42:09.949950Z",
     "start_time": "2024-05-13T03:40:57.414841Z"
    }
   },
   "id": "3dbd15b866b0c3a",
   "execution_count": 10
  },
  {
   "cell_type": "code",
   "outputs": [],
   "source": [
    "rmse, r2 = defaultdict(list), defaultdict(list)\n",
    "\n",
    "for pred in [preds[c] for c in preds.columns]:\n",
    "    df = pd.DataFrame({\"pred\": pred, \"set\": tst[\"set\"], \"true\": tst[\"LogS\"]})\n",
    "    for s in df[\"set\"].unique():\n",
    "        p = df[df[\"set\"] == s]\n",
    "        rmse[s].append(root_mean_squared_error(p[\"true\"], p[\"pred\"]))\n",
    "        r2[s].append(r2_score(p[\"true\"], p[\"pred\"]))"
   ],
   "metadata": {
    "collapsed": false,
    "ExecuteTime": {
     "end_time": "2024-05-13T03:42:09.959615Z",
     "start_time": "2024-05-13T03:42:09.950953Z"
    }
   },
   "id": "5f64ff9646f1bddc",
   "execution_count": 11
  },
  {
   "cell_type": "code",
   "outputs": [],
   "source": [
    "for s in rmse.keys():\n",
    "    print(f\"[{s}] rmse:{np.mean(rmse[s]):.2f}±{np.std(rmse[s]):.2f} r2:{np.mean(r2[s]):.2f}±{np.std(r2[s]):.2f}\")"
   ],
   "metadata": {
    "collapsed": false
   },
   "id": "2fdf7f53dcee25d",
   "execution_count": null
  },
  {
   "cell_type": "code",
   "outputs": [],
   "source": [
    "def subplot(x, y, ax):\n",
    "    ax.scatter(x, y)\n",
    "    ax.set_xlim((min(min(x), min(y)) - 0.1, max(max(x), max(y)) + 0.1))\n",
    "    ax.set_ylim((min(min(x), min(y)) - 0.1, max(max(x), max(y)) + 0.1))\n",
    "    x0, x1 = ax.get_xlim()\n",
    "    y0, y1 = ax.get_ylim()\n",
    "    ax.set_aspect(abs(x1 - x0) / abs(y1 - y0))\n",
    "    ax.grid(which='major', linestyle='--')\n",
    "    ax.plot([min(min(x), min(y)), max(max(x), max(y))], [min(min(x), min(y)), max(max(x), max(y))], 'k')\n",
    "    a, b = np.polyfit(x, y, 1)\n",
    "    y_fit = a * x + b\n",
    "    ax.plot(x, y_fit)\n",
    "    ax.set_xlabel(\"log$S$ Experimental\")\n",
    "    ax.set_ylabel(\"log$S$ Predicted\")\n",
    "\n",
    "\n",
    "model_name = \"LightGBM\"\n",
    "fig, axs = plt.subplots(nrows=1, ncols=3, figsize=(5 * 3, 5))\n",
    "df = pd.DataFrame({\"pred\": preds.iloc[:, np.argmin(np.array(list(rmse.values())).mean(axis=0))],\n",
    "                   \"set\": tst[\"set\"], \"true\": tst[\"LogS\"]})\n",
    "for s, ax in zip(rmse.keys(), axs):\n",
    "    idx = tst[tst[\"set\"] == s].index\n",
    "    t = df[\"true\"].loc[idx]\n",
    "    p = df[\"pred\"].loc[idx]\n",
    "    subplot(t, p, ax)\n",
    "    ax.grid(False)\n",
    "    ax.set_title(f\"{s} ({model_name})   \"\n",
    "                 f\"RMSE: {root_mean_squared_error(t, p):.2f}, \"\n",
    "                 f\"R$^2$: {r2_score(t, p):.2f}\")"
   ],
   "metadata": {
    "collapsed": false
   },
   "id": "b5ccbcd3f7ad4226",
   "execution_count": null
  },
  {
   "cell_type": "markdown",
   "source": [
    "Permutation Feature Importance"
   ],
   "metadata": {
    "collapsed": false
   },
   "id": "72106dcdb0d76231"
  },
  {
   "cell_type": "code",
   "outputs": [],
   "source": [
    "pi = [\n",
    "    permutation_importance(booster, tst_X, tst_y, n_jobs=-1)\n",
    "    for booster in list(np.concatenate(boosters))\n",
    "]"
   ],
   "metadata": {
    "collapsed": false
   },
   "id": "c9db88955098929d",
   "execution_count": null
  },
  {
   "cell_type": "code",
   "outputs": [],
   "source": [
    "perm_importance = pd.concat([pd.DataFrame(pi[i].importances_mean) for i in range(len(pi))], axis=1)\n",
    "perm_importance.index = trn_X.columns\n",
    "perm_importance_mean = perm_importance.mean(axis=1)\n",
    "min_v, max_v = perm_importance.min().min(), perm_importance.max().max()\n",
    "perm_importance_sort = ((perm_importance - min_v) / (max_v - min_v)).loc[\n",
    "    perm_importance_mean.sort_values(ascending=False).index]\n",
    "perm_importance_sort"
   ],
   "metadata": {
    "collapsed": false,
    "ExecuteTime": {
     "end_time": "2024-05-13T03:44:10.383778Z",
     "start_time": "2024-05-13T03:44:10.382774Z"
    }
   },
   "id": "4a2f5ae6e4f4c212"
  },
  {
   "cell_type": "markdown",
   "source": [
    "SHAP feature importance. (Tree Explainer)"
   ],
   "metadata": {
    "collapsed": false
   },
   "id": "ce632213a2ffb750"
  },
  {
   "cell_type": "code",
   "outputs": [],
   "source": [
    "si = [\n",
    "    shap.TreeExplainer(booster).shap_values(tst_X, tst_y)\n",
    "    for booster in list(np.concatenate(boosters))\n",
    "]"
   ],
   "metadata": {
    "collapsed": false,
    "ExecuteTime": {
     "end_time": "2024-05-13T03:43:59.020941Z",
     "start_time": "2024-05-13T03:43:57.051370Z"
    }
   },
   "id": "48f16cb18c24a2cd",
   "execution_count": 14
  },
  {
   "cell_type": "code",
   "outputs": [],
   "source": [
    "shap_importance = pd.concat([pd.Series(np.abs(s).mean(0)) for s in si], axis=1)\n",
    "shap_importance.index = trn_X.columns\n",
    "shap_importance_mean = shap_importance.mean(axis=1)\n",
    "min_v, max_v = shap_importance.min().min(), shap_importance.max().max()\n",
    "shap_importance_sort = ((shap_importance_mean - min_v) / (max_v - min_v)).loc[\n",
    "    shap_importance_mean.sort_values(ascending=False).index]\n",
    "shap_importance_sort"
   ],
   "metadata": {
    "collapsed": false
   },
   "id": "33d7e14e46bf15e1",
   "execution_count": null
  },
  {
   "cell_type": "markdown",
   "source": [
    "## Classification Problem"
   ],
   "metadata": {
    "collapsed": false
   },
   "id": "9bcff2f585260ddf"
  },
  {
   "cell_type": "code",
   "execution_count": 25,
   "id": "initial_id",
   "metadata": {
    "collapsed": true,
    "ExecuteTime": {
     "end_time": "2024-05-13T03:50:33.789945Z",
     "start_time": "2024-05-13T03:50:33.700958Z"
    }
   },
   "outputs": [],
   "source": [
    "trn = pd.concat([pd.read_csv(f\"../data/trn.EUOS-SLAS.Part{i}.csv.gz\") for i in range(1, 9)])\n",
    "tst = pd.concat([pd.read_csv(f\"../data/tst.EUOS-SLAS.Part{i}.csv.gz\") for i in range(1, 5)])\n",
    "\n",
    "trn_X = trn.drop([\"SMILES\", \"SMILES.1\", \"solubility\", \"Id\"], axis=1)\n",
    "tst_X = tst.drop([\"SMILES\", \"SMILES.1\", \"Id\"], axis=1)\n",
    "trn_y = trn[\"solubility\"]"
   ]
  },
  {
   "cell_type": "code",
   "outputs": [],
   "source": [
    "tune_space = {\n",
    "    \"learning_rate\": hp.choice(\"learning_rate\", [0.1, 0.01, 0.001]),\n",
    "    \"n_estimators\": hp.choice(\"n_estimators\", [100, 200, 300, 400]),\n",
    "    \"reg_alpha\": hp.uniform(\"reg_alpha\", 0, 1),\n",
    "    \"reg_lambda\": hp.uniform(\"reg_lambda\", 0, 1),\n",
    "}"
   ],
   "metadata": {
    "collapsed": false,
    "ExecuteTime": {
     "end_time": "2024-05-13T03:50:33.901330Z",
     "start_time": "2024-05-13T03:50:33.898191Z"
    }
   },
   "id": "c1eb11281b8cb254",
   "execution_count": 26
  },
  {
   "cell_type": "code",
   "outputs": [],
   "source": [
    "def tune_obj(space):\n",
    "    kf = KFold(n_splits=3, shuffle=True)\n",
    "    qck = []\n",
    "\n",
    "    for trn_idx, val_idx in kf.split(trn_X):\n",
    "        tX, vX = trn_X.iloc[trn_idx], trn_X.iloc[val_idx]\n",
    "        ty, vy = trn_y.iloc[trn_idx], trn_y.iloc[val_idx]\n",
    "\n",
    "        booster = lgb.LGBMClassifier(\n",
    "            num_class=3,\n",
    "            learning_rate=space[\"learning_rate\"],\n",
    "            n_estimators=space[\"n_estimators\"],\n",
    "            n_jobs=10,\n",
    "            reg_alpha=space[\"reg_alpha\"],\n",
    "            reg_lambda=space[\"reg_lambda\"],\n",
    "        )\n",
    "        booster.fit(tX, ty)\n",
    "\n",
    "        pred = booster.predict(vX)\n",
    "        qck.append(cohen_kappa_score(vy, pred, weights=\"quadratic\"))\n",
    "\n",
    "    return {\"loss\": np.mean(qck), 'status': STATUS_OK}"
   ],
   "metadata": {
    "collapsed": false,
    "ExecuteTime": {
     "end_time": "2024-05-13T03:50:34.053431Z",
     "start_time": "2024-05-13T03:50:34.049987Z"
    }
   },
   "id": "3382bd0cc7fa32b2",
   "execution_count": 27
  },
  {
   "cell_type": "code",
   "outputs": [],
   "source": [
    "trials = Trials()\n",
    "best_params = fmin(\n",
    "    fn=tune_obj,\n",
    "    space=tune_space,\n",
    "    algo=tpe.suggest,\n",
    "    max_evals=500,\n",
    "    trials=trials\n",
    ")"
   ],
   "metadata": {
    "collapsed": false
   },
   "id": "28f3d32929fe01cb",
   "execution_count": null
  },
  {
   "cell_type": "markdown",
   "source": [
    "K-fold CV."
   ],
   "metadata": {
    "collapsed": false
   },
   "id": "267928b3439760b9"
  },
  {
   "cell_type": "code",
   "outputs": [],
   "source": [
    "def k_fold_CV(n_splits=5):\n",
    "    kf = KFold(n_splits=n_splits, shuffle=True)\n",
    "    qck = []\n",
    "\n",
    "    for trn_idx, val_idx in kf.split(trn_X):\n",
    "        tX, vX = trn_X.loc[trn_idx], trn_X.loc[val_idx]\n",
    "        ty, vy = trn_y[trn_idx], trn_y[val_idx]\n",
    "        booster = lgb.LGBMClassifier(\n",
    "            num_class=3,\n",
    "            n_jobs=10,\n",
    "            learning_rate=0.01,\n",
    "            n_estimators=500,\n",
    "            verbosity=0\n",
    "        )\n",
    "        booster.fit(tX, ty, eval_set=[(vX, vy)])\n",
    "\n",
    "        pred_val = booster.predict(vX)\n",
    "        qck.append(cohen_kappa_score(vy, pred_val, weights=\"quadratic\"))\n",
    "\n",
    "    return pd.DataFrame({\"QCK\": qck})"
   ],
   "metadata": {
    "collapsed": false,
    "ExecuteTime": {
     "end_time": "2024-05-13T03:55:21.960787Z",
     "start_time": "2024-05-13T03:55:21.957423Z"
    }
   },
   "id": "de6857547808f3e9",
   "execution_count": 34
  },
  {
   "cell_type": "code",
   "outputs": [],
   "source": [
    "pd.concat([k_fold_CV() for _ in range(10)])"
   ],
   "metadata": {
    "collapsed": false
   },
   "id": "f606b584f42db82c",
   "execution_count": null
  },
  {
   "cell_type": "markdown",
   "source": [
    "Prediction and estimation."
   ],
   "metadata": {
    "collapsed": false
   },
   "id": "914e3db254a6be04"
  },
  {
   "cell_type": "code",
   "outputs": [],
   "source": [
    "def predict():\n",
    "    kf = KFold(n_splits=5, shuffle=True)\n",
    "    prediction = []\n",
    "    for trn_idx, val_idx in kf.split(trn_X):\n",
    "        tX, vX = trn_X.loc[trn_idx], trn_X.loc[val_idx]\n",
    "        ty, vy = trn_y[trn_idx], trn_y[val_idx]\n",
    "        booster = lgb.LGBMClassifier(\n",
    "            num_class=3,\n",
    "            n_jobs=10,\n",
    "            learning_rate=0.01,\n",
    "            n_estimators=500,\n",
    "            verbosity=0\n",
    "        )\n",
    "        booster.fit(tX, ty, eval_set=[(vX, vy)])\n",
    "        prediction.append(booster.predict(tst_X))\n",
    "\n",
    "    return np.array([mode(p) for p in list(zip(*prediction))])"
   ],
   "metadata": {
    "collapsed": false,
    "ExecuteTime": {
     "end_time": "2024-05-13T03:55:45.481390Z",
     "start_time": "2024-05-13T03:55:45.477471Z"
    }
   },
   "id": "3ee1d0a2bb439439",
   "execution_count": 36
  },
  {
   "cell_type": "code",
   "outputs": [],
   "source": [
    "preds = [predict() for _ in range(50)]\n",
    "preds = pd.DataFrame([p for p in preds]).transpose()\n",
    "preds"
   ],
   "metadata": {
    "collapsed": false
   },
   "id": "3d72110b9c03f888",
   "execution_count": null
  },
  {
   "cell_type": "markdown",
   "source": [
    "Upload the predictions to the challenge to get feedback on the model's performance."
   ],
   "metadata": {
    "collapsed": false
   },
   "id": "2f8da8dc8b46b6f0"
  }
 ],
 "metadata": {
  "kernelspec": {
   "display_name": "Python 3",
   "language": "python",
   "name": "python3"
  },
  "language_info": {
   "codemirror_mode": {
    "name": "ipython",
    "version": 2
   },
   "file_extension": ".py",
   "mimetype": "text/x-python",
   "name": "python",
   "nbconvert_exporter": "python",
   "pygments_lexer": "ipython2",
   "version": "2.7.6"
  }
 },
 "nbformat": 4,
 "nbformat_minor": 5
}
