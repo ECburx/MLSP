{
 "cells": [
  {
   "cell_type": "markdown",
   "source": [
    "## GIN"
   ],
   "metadata": {
    "collapsed": false
   },
   "id": "d36f767ddadda1fa"
  },
  {
   "cell_type": "code",
   "outputs": [],
   "source": [
    "import numpy as np\n",
    "import pandas as pd\n",
    "import torch\n",
    "import matplotlib.pyplot as plt\n",
    "from data.featurization.dgl_Graph import DGL_Graph\n",
    "from model.dgl.GIN import GIN\n",
    "from sklearn.metrics import root_mean_squared_error, r2_score, cohen_kappa_score\n",
    "from sklearn.model_selection import KFold\n",
    "from hyperopt import STATUS_OK, Trials, fmin, hp, tpe\n",
    "from collections import defaultdict"
   ],
   "metadata": {
    "collapsed": false
   },
   "id": "7e7d9d487bc462d6",
   "execution_count": null
  },
  {
   "cell_type": "code",
   "outputs": [],
   "source": [
    "import warnings\n",
    "\n",
    "warnings.simplefilter(action='ignore', category=FutureWarning)"
   ],
   "metadata": {
    "collapsed": false
   },
   "id": "5beda1477aa70e3d",
   "execution_count": null
  },
  {
   "cell_type": "markdown",
   "source": [
    "### Regression Problems"
   ],
   "metadata": {
    "collapsed": false
   },
   "id": "e9d6d9fd54e38fb4"
  },
  {
   "cell_type": "code",
   "outputs": [],
   "source": [
    "trn = pd.read_csv(\"../data/trn.reg.csv.gz\", compression='gzip', low_memory=False)\n",
    "tst = pd.read_csv(\"../data/tst.reg.csv.gz\", compression='gzip', low_memory=False)\n",
    "\n",
    "trn_X = trn[\"SMILES\"]\n",
    "tst_X = tst[\"SMILES\"]\n",
    "trn_y = trn[\"LogS\"]\n",
    "tst_y = tst[\"LogS\"]"
   ],
   "metadata": {
    "collapsed": false
   },
   "id": "e78837b88f5c8988",
   "execution_count": null
  },
  {
   "cell_type": "code",
   "outputs": [],
   "source": [
    "featurizer = DGL_Graph(\n",
    "    graph_type=\"BI_GRAPH\",\n",
    "    featurize_type=\"Pretrain\",\n",
    "    self_loop=True\n",
    ")\n",
    "trn_X = featurizer.convert(trn_X)\n",
    "tst_X = featurizer.convert(tst_X)"
   ],
   "metadata": {
    "collapsed": false
   },
   "id": "3536481d1ce601ec",
   "execution_count": null
  },
  {
   "cell_type": "markdown",
   "source": [
    "Hyper-parameter Tuning."
   ],
   "metadata": {
    "collapsed": false
   },
   "id": "4330aa8d0d2e76d5"
  },
  {
   "cell_type": "code",
   "outputs": [],
   "source": [
    "tune_space = {\n",
    "    \"pretrained\": hp.choice(\"pretrained\", [\"gin_supervised_contextpred\", \"gin_supervised_infomax\",\n",
    "                                           \"gin_supervised_edgepred\", \"gin_supervised_masking\"]),\n",
    "    \"num_layers\": hp.randint(\"num_layers\", 2, 6),\n",
    "    \"emb_dim\": hp.choice(\"emb_dim\", [200, 250, 300, 350, 400]),\n",
    "    \"JK\": hp.choice(\"JK\", [\"concat\", \"last\", \"max\", \"sum\"]),\n",
    "    \"dropout\": hp.uniform(\"dropout\", 0, 1),\n",
    "    \"readout\": hp.choice(\"readout\", [\"sum\", \"mean\", \"max\", \"attention\", \"set2set\"]),\n",
    "    \"lr\": hp.choice(\"lr\", [0.1, 0.01, 0.001]),\n",
    "    \"weight_decay\": hp.uniform(\"weight_decay\", 0, 1),\n",
    "\n",
    "    \"batch_size\": 128,\n",
    "}"
   ],
   "metadata": {
    "collapsed": false
   },
   "id": "6f351b57dcf6c47"
  },
  {
   "cell_type": "code",
   "outputs": [],
   "source": [
    "def tune_obj(space):\n",
    "    kf = KFold(n_splits=5, shuffle=True)\n",
    "    rmse = []\n",
    "\n",
    "    for trn_idx, val_idx in kf.split(trn_X):\n",
    "        tX, vX = trn_X[trn_idx], trn_X[val_idx]\n",
    "        ty, vy = trn_y[trn_idx], trn_y[val_idx]\n",
    "\n",
    "        model = GIN(\n",
    "            n_tasks=1,\n",
    "            pretrained=space[\"pretrained\"],\n",
    "            num_node_emb_list=[\n",
    "                len(featurizer.node_featurizer._atomic_number_types) + 1,\n",
    "                len(featurizer.node_featurizer._chiral_types) + 1\n",
    "            ],\n",
    "            num_edge_emb_list=[\n",
    "                len(featurizer.edge_featurizer._bond_types) + 1,\n",
    "                len(featurizer.edge_featurizer._bond_direction_types) + 1\n",
    "            ],\n",
    "            num_layers=space[\"num_layers\"],\n",
    "            emb_dim=space[\"emb_dim\"],\n",
    "            JK=space[\"JK\"],\n",
    "            dropout=space[\"dropout\"],\n",
    "            readout=space[\"readout\"],\n",
    "            lr=space[\"lr\"],\n",
    "            weight_decay=space[\"weight_decay\"],\n",
    "            batch_size=128\n",
    "        )\n",
    "        model.fit(tX, ty,\n",
    "                  epochs=800, min_epochs=400, early_stop_epochs=20, verbose=False)\n",
    "        rmse.append(root_mean_squared_error(vy, model.predict(vX).cpu()))\n",
    "\n",
    "    return {\"loss\": np.mean(rmse), 'status': STATUS_OK}"
   ],
   "metadata": {
    "collapsed": false
   },
   "id": "8ab7e7f3a7e17bef"
  },
  {
   "cell_type": "code",
   "outputs": [],
   "source": [
    "trials = Trials()\n",
    "best_params = fmin(\n",
    "    fn=tune_obj,\n",
    "    space=tune_space,\n",
    "    algo=tpe.suggest,\n",
    "    max_evals=500,\n",
    "    trials=trials\n",
    ")"
   ],
   "metadata": {
    "collapsed": false
   },
   "id": "174666ea051bd634"
  },
  {
   "cell_type": "code",
   "outputs": [],
   "source": [
    "best_params"
   ],
   "metadata": {
    "collapsed": false
   },
   "id": "a54e4f30ca682620"
  },
  {
   "cell_type": "code",
   "outputs": [],
   "source": [
    "best_params = {\n",
    "    \"pretrained\": \"gin_supervised_contextpred\",\n",
    "    \"num_layers\": 5,\n",
    "    \"emb_dim\": 300,\n",
    "    \"JK\": \"concat\",\n",
    "    \"dropout\": 0.0554778022998591,\n",
    "    \"readout\": \"sum\",\n",
    "    \"lr\": 0.01,\n",
    "    \"weight_decay\": 0.0042748880398552624,\n",
    "    \"batch_size\": 128,\n",
    "}"
   ],
   "metadata": {
    "collapsed": false
   },
   "id": "211d782163ebeae1",
   "execution_count": null
  },
  {
   "cell_type": "markdown",
   "source": [
    "K-fold CV."
   ],
   "metadata": {
    "collapsed": false
   },
   "id": "8936da8487bfcab"
  },
  {
   "cell_type": "code",
   "outputs": [],
   "source": [
    "def k_fold_CV(n_splits=5):\n",
    "    kf = KFold(n_splits=n_splits, shuffle=True)\n",
    "    rmse, r2 = [], []\n",
    "\n",
    "    for trn_idx, val_idx in kf.split(trn_X):\n",
    "        tX, vX = trn_X[trn_idx], trn_X[val_idx]\n",
    "        ty, vy = trn_y[trn_idx], trn_y[val_idx]\n",
    "\n",
    "        model = GIN(\n",
    "            n_tasks=1,\n",
    "            pretrained=best_params[\"pretrained\"],\n",
    "            num_node_emb_list=[\n",
    "                len(featurizer.node_featurizer._atomic_number_types) + 1,\n",
    "                len(featurizer.node_featurizer._chiral_types) + 1\n",
    "            ],\n",
    "            num_edge_emb_list=[\n",
    "                len(featurizer.edge_featurizer._bond_types) + 1,\n",
    "                len(featurizer.edge_featurizer._bond_direction_types) + 1\n",
    "            ],\n",
    "            num_layers=best_params[\"num_layers\"],\n",
    "            emb_dim=best_params[\"emb_dim\"],\n",
    "            JK=best_params[\"JK\"],\n",
    "            dropout=best_params[\"dropout\"],\n",
    "            readout=best_params[\"readout\"],\n",
    "            lr=best_params[\"lr\"],\n",
    "            weight_decay=best_params[\"weight_decay\"],\n",
    "            batch_size=128\n",
    "        )\n",
    "        model.fit(tX, ty, val_X=vX, val_y=vy, epochs=400)\n",
    "        pred_val = model.predict(vX).cpu()\n",
    "\n",
    "        rmse.append(root_mean_squared_error(vy, pred_val))\n",
    "        r2.append(r2_score(vy, pred_val))\n",
    "\n",
    "    return pd.DataFrame({\"rmse\": rmse, \"r2\": r2})"
   ],
   "metadata": {
    "collapsed": false
   },
   "id": "526aac90d35772b1",
   "execution_count": null
  },
  {
   "cell_type": "code",
   "outputs": [],
   "source": [
    "pd.concat([k_fold_CV() for _ in range(10)])"
   ],
   "metadata": {
    "collapsed": false
   },
   "id": "83bf180aca497ba2",
   "execution_count": null
  },
  {
   "cell_type": "markdown",
   "source": [
    "Prediction and estimation."
   ],
   "metadata": {
    "collapsed": false
   },
   "id": "eaff4c0eb2f9dba8"
  },
  {
   "cell_type": "code",
   "outputs": [],
   "source": [
    "def predict():\n",
    "    kf = KFold(n_splits=5, shuffle=True)\n",
    "    prediction = []\n",
    "\n",
    "    for trn_idx, val_idx in kf.split(trn_X):\n",
    "        tX, vX = trn_X[trn_idx], trn_X[val_idx]\n",
    "        ty, vy = trn_y[trn_idx], trn_y[val_idx]\n",
    "\n",
    "        model = GIN(\n",
    "            n_tasks=1,\n",
    "            pretrained=best_params[\"pretrained\"],\n",
    "            num_node_emb_list=[\n",
    "                len(featurizer.node_featurizer._atomic_number_types) + 1,\n",
    "                len(featurizer.node_featurizer._chiral_types) + 1\n",
    "            ],\n",
    "            num_edge_emb_list=[\n",
    "                len(featurizer.edge_featurizer._bond_types) + 1,\n",
    "                len(featurizer.edge_featurizer._bond_direction_types) + 1\n",
    "            ],\n",
    "            num_layers=best_params[\"num_layers\"],\n",
    "            emb_dim=best_params[\"emb_dim\"],\n",
    "            JK=best_params[\"JK\"],\n",
    "            dropout=best_params[\"dropout\"],\n",
    "            readout=best_params[\"readout\"],\n",
    "            lr=best_params[\"lr\"],\n",
    "            weight_decay=best_params[\"weight_decay\"],\n",
    "            batch_size=128,\n",
    "        )\n",
    "        model.fit(tX, ty, val_X=vX, val_y=vy, epochs=800, min_epochs=400, early_stop_epochs=20)\n",
    "        prediction.append(model.predict(tst_X).cpu())\n",
    "\n",
    "    return [torch.mean(pred_i).item() for pred_i in torch.cat(prediction, 1)]"
   ],
   "metadata": {
    "collapsed": false
   },
   "id": "464e2921ac0744f1",
   "execution_count": null
  },
  {
   "cell_type": "code",
   "outputs": [],
   "source": [
    "preds = [predict() for _ in range(10)]\n",
    "preds = pd.concat([pd.Series(p) for p in preds], axis=1)"
   ],
   "metadata": {
    "collapsed": false
   },
   "id": "7c5f4ef27062519",
   "execution_count": null
  },
  {
   "cell_type": "code",
   "outputs": [],
   "source": [
    "rmse, r2 = defaultdict(list), defaultdict(list)\n",
    "\n",
    "for pred in [preds[c] for c in preds.columns]:\n",
    "    df = pd.DataFrame({\"pred\": pred, \"set\": tst[\"set\"], \"true\": tst[\"LogS\"]})\n",
    "    for s in df[\"set\"].unique():\n",
    "        p = df[df[\"set\"] == s]\n",
    "        rmse[s].append(root_mean_squared_error(p[\"true\"], p[\"pred\"]))\n",
    "        r2[s].append(r2_score(p[\"true\"], p[\"pred\"]))"
   ],
   "metadata": {
    "collapsed": false
   },
   "id": "f5c5e961e69b3b66",
   "execution_count": null
  },
  {
   "cell_type": "code",
   "outputs": [],
   "source": [
    "for s in rmse.keys():\n",
    "    print(f\"[{s}] rmse:{np.mean(rmse[s]):.2f}±{np.std(rmse[s]):.2f} r2:{np.mean(r2[s]):.2f}±{np.std(r2[s]):.2f}\")"
   ],
   "metadata": {
    "collapsed": false
   },
   "id": "5e0874f115fdebd5",
   "execution_count": null
  },
  {
   "cell_type": "code",
   "outputs": [],
   "source": [
    "def subplot(x, y, ax):\n",
    "    ax.scatter(x, y)\n",
    "    ax.set_xlim((min(min(x), min(y)) - 0.1, max(max(x), max(y)) + 0.1))\n",
    "    ax.set_ylim((min(min(x), min(y)) - 0.1, max(max(x), max(y)) + 0.1))\n",
    "    x0, x1 = ax.get_xlim()\n",
    "    y0, y1 = ax.get_ylim()\n",
    "    ax.set_aspect(abs(x1 - x0) / abs(y1 - y0))\n",
    "    ax.grid(which='major', linestyle='--')\n",
    "    ax.plot([min(min(x), min(y)), max(max(x), max(y))], [min(min(x), min(y)), max(max(x), max(y))], 'k')\n",
    "    a, b = np.polyfit(x, y, 1)\n",
    "    y_fit = a * x + b\n",
    "    ax.plot(x, y_fit)\n",
    "    ax.set_xlabel(\"log$S$ Experimental\")\n",
    "    ax.set_ylabel(\"log$S$ Predicted\")\n",
    "\n",
    "\n",
    "model_name = \"GIN\"\n",
    "fig, axs = plt.subplots(nrows=1, ncols=3, figsize=(5 * 3, 5))\n",
    "\n",
    "df = pd.DataFrame({\"pred\": preds.iloc[:, np.argmin(np.array(list(rmse.values())).mean(axis=0))],\n",
    "                   \"set\": tst[\"set\"], \"true\": tst[\"LogS\"]})\n",
    "for s, ax in zip(rmse.keys(), axs):\n",
    "    idx = tst[tst[\"set\"] == s].index\n",
    "    t = df[\"true\"].loc[idx]\n",
    "    p = df[\"pred\"].loc[idx]\n",
    "    subplot(t, p, ax)\n",
    "    ax.grid(False)\n",
    "    ax.set_title(f\"{s} ({model_name})   \"\n",
    "                 f\"RMSE: {root_mean_squared_error(t, p):.3f}, \"\n",
    "                 f\"R$^2$: {r2_score(t, p):.3f}\")"
   ],
   "metadata": {
    "collapsed": false
   },
   "id": "3fa99ded9e13f9a5",
   "execution_count": null
  },
  {
   "cell_type": "markdown",
   "source": [
    "## Classification Problem"
   ],
   "metadata": {
    "collapsed": false
   },
   "id": "58f166daafc9b681"
  },
  {
   "cell_type": "code",
   "execution_count": null,
   "id": "initial_id",
   "metadata": {
    "collapsed": true
   },
   "outputs": [],
   "source": [
    "trn = pd.concat([pd.read_csv(f\"../data/trn.EUOS-SLAS.Part{i}.csv.gz\") for i in range(1, 9)])\n",
    "tst = pd.concat([pd.read_csv(f\"../data/tst.EUOS-SLAS.Part{i}.csv.gz\") for i in range(1, 5)])\n",
    "\n",
    "trn_X = trn[\"SMILES\"]\n",
    "tst_X = tst[\"SMILES\"]\n",
    "trn_y = trn[\"solubility\"]"
   ]
  },
  {
   "cell_type": "code",
   "outputs": [],
   "source": [
    "featurizer = DGL_Graph(\n",
    "    graph_type=\"BI_GRAPH\",\n",
    "    featurize_type=\"Pretrain\",\n",
    "    self_loop=True\n",
    ")\n",
    "trn_X = featurizer.convert(trn_X)\n",
    "tst_X = featurizer.convert(tst_X)"
   ],
   "metadata": {
    "collapsed": false
   },
   "id": "c8fa37de691f95af",
   "execution_count": null
  },
  {
   "cell_type": "markdown",
   "source": [
    "Hyper-parameter Tuning."
   ],
   "metadata": {
    "collapsed": false
   },
   "id": "415f02d99b9f6d58"
  },
  {
   "cell_type": "code",
   "outputs": [],
   "source": [
    "def tune_obj(space):\n",
    "    kf = KFold(n_splits=5, shuffle=True)\n",
    "    qck = []\n",
    "\n",
    "    for trn_idx, val_idx in kf.split(trn_X):\n",
    "        tX, vX = trn_X[trn_idx], trn_X[val_idx]\n",
    "        ty, vy = trn_y[trn_idx], trn_y[val_idx]\n",
    "\n",
    "        model = GIN(\n",
    "            n_tasks=3,\n",
    "            pretrained=space[\"pretrained\"],\n",
    "            num_node_emb_list=[\n",
    "                len(featurizer.node_featurizer._atomic_number_types) + 1,\n",
    "                len(featurizer.node_featurizer._chiral_types) + 1\n",
    "            ],\n",
    "            num_edge_emb_list=[\n",
    "                len(featurizer.edge_featurizer._bond_types) + 1,\n",
    "                len(featurizer.edge_featurizer._bond_direction_types) + 1\n",
    "            ],\n",
    "            num_layers=space[\"num_layers\"],\n",
    "            emb_dim=space[\"emb_dim\"],\n",
    "            JK=space[\"JK\"],\n",
    "            dropout=space[\"dropout\"],\n",
    "            readout=space[\"readout\"],\n",
    "            lr=space[\"lr\"],\n",
    "            weight_decay=space[\"weight_decay\"],\n",
    "            batch_size=128\n",
    "        )\n",
    "        scores = model.fit(tX, ty,\n",
    "                           val_X=vX, val_y=vy,\n",
    "                           epochs=800, min_epochs=500, early_stop_epochs=10, verbose=False)\n",
    "        qck.append(scores[\"qck\"][-1])\n",
    "\n",
    "    return {\"loss\": np.mean(qck), 'status': STATUS_OK}"
   ],
   "metadata": {
    "collapsed": false
   },
   "id": "be2b74c4843fe344",
   "execution_count": null
  },
  {
   "cell_type": "code",
   "outputs": [],
   "source": [
    "trials = Trials()\n",
    "best_params = fmin(\n",
    "    fn=tune_obj,\n",
    "    space=tune_space,\n",
    "    algo=tpe.suggest,\n",
    "    max_evals=500,\n",
    "    trials=trials\n",
    ")"
   ],
   "metadata": {
    "collapsed": false
   },
   "id": "8b6cb64a070377cf",
   "execution_count": null
  },
  {
   "cell_type": "code",
   "outputs": [],
   "source": [
    "best_params"
   ],
   "metadata": {
    "collapsed": false
   },
   "id": "ce44d9f80eb3ea8"
  },
  {
   "cell_type": "markdown",
   "source": [
    "K-fold CV."
   ],
   "metadata": {
    "collapsed": false
   },
   "id": "41361e8b451cb999"
  },
  {
   "cell_type": "code",
   "outputs": [],
   "source": [
    "def k_fold_CV(n_splits=5):\n",
    "    kf = KFold(n_splits=n_splits, shuffle=True)\n",
    "    qck = []\n",
    "\n",
    "    for trn_idx, val_idx in kf.split(trn_X):\n",
    "        tX, vX = trn_X[trn_idx], trn_X[val_idx]\n",
    "        ty, vy = trn_y[trn_idx], trn_y[val_idx]\n",
    "\n",
    "        model = GIN(\n",
    "            n_tasks=3,\n",
    "            pretrained=best_params[\"pretrained\"],\n",
    "            num_node_emb_list=[\n",
    "                len(featurizer.node_featurizer._atomic_number_types) + 1,\n",
    "                len(featurizer.node_featurizer._chiral_types) + 1\n",
    "            ],\n",
    "            num_edge_emb_list=[\n",
    "                len(featurizer.edge_featurizer._bond_types) + 1,\n",
    "                len(featurizer.edge_featurizer._bond_direction_types) + 1\n",
    "            ],\n",
    "            num_layers=best_params[\"num_layers\"],\n",
    "            emb_dim=best_params[\"emb_dim\"],\n",
    "            JK=best_params[\"JK\"],\n",
    "            dropout=best_params[\"dropout\"],\n",
    "            readout=best_params[\"readout\"],\n",
    "            lr=best_params[\"lr\"],\n",
    "            weight_decay=best_params[\"weight_decay\"],\n",
    "            batch_size=128,\n",
    "        )\n",
    "        model.fit(tX, ty, val_X=vX, val_y=vy, epochs=400)\n",
    "        pred_val = model.predict(vX).cpu()\n",
    "        pred_val = torch.argmax(pred_val, dim=1)\n",
    "\n",
    "        qck.append(cohen_kappa_score(vy, pred_val, weights=\"quadratic\"))\n",
    "\n",
    "    return pd.DataFrame({\"qck\": qck})"
   ],
   "metadata": {
    "collapsed": false
   },
   "id": "4ce2bb0a27286cc0",
   "execution_count": null
  },
  {
   "cell_type": "code",
   "outputs": [],
   "source": [
    "pd.concat([k_fold_CV() for _ in range(10)])"
   ],
   "metadata": {
    "collapsed": false
   },
   "id": "f911c440e40decfc",
   "execution_count": null
  },
  {
   "cell_type": "markdown",
   "source": [
    "Prediction and estimation."
   ],
   "metadata": {
    "collapsed": false
   },
   "id": "acc12e5cd4ece6d6"
  },
  {
   "cell_type": "code",
   "outputs": [],
   "source": [
    "def predict():\n",
    "    kf = KFold(n_splits=5, shuffle=True)\n",
    "    prediction = []\n",
    "\n",
    "    for trn_idx, val_idx in kf.split(trn_X):\n",
    "        tX, vX = trn_X[trn_idx], trn_X[val_idx]\n",
    "        ty, vy = trn_y[trn_idx], trn_y[val_idx]\n",
    "\n",
    "        model = GIN(\n",
    "            n_tasks=3,\n",
    "            pretrained=best_params[\"pretrained\"],\n",
    "            num_node_emb_list=[\n",
    "                len(featurizer.node_featurizer._atomic_number_types) + 1,\n",
    "                len(featurizer.node_featurizer._chiral_types) + 1\n",
    "            ],\n",
    "            num_edge_emb_list=[\n",
    "                len(featurizer.edge_featurizer._bond_types) + 1,\n",
    "                len(featurizer.edge_featurizer._bond_direction_types) + 1\n",
    "            ],\n",
    "            num_layers=best_params[\"num_layers\"],\n",
    "            emb_dim=best_params[\"emb_dim\"],\n",
    "            JK=best_params[\"JK\"],\n",
    "            dropout=best_params[\"dropout\"],\n",
    "            readout=best_params[\"readout\"],\n",
    "            lr=best_params[\"lr\"],\n",
    "            weight_decay=best_params[\"weight_decay\"],\n",
    "            batch_size=128,\n",
    "        )\n",
    "        model.fit(tX, ty, val_X=vX, val_y=vy, epochs=800, min_epochs=400, early_stop_epochs=20)\n",
    "        prediction.append(model.predict(tst_X))\n",
    "\n",
    "    return torch.argmax(torch.stack(prediction).mean(dim=0), dim=1).cpu()"
   ],
   "metadata": {
    "collapsed": false
   },
   "id": "6d3adac3831e0995",
   "execution_count": null
  },
  {
   "cell_type": "code",
   "outputs": [],
   "source": [
    "preds = [predict() for _ in range(50)]\n",
    "preds = pd.DataFrame([p.numpy().tolist() for p in preds]).transpose()\n",
    "preds"
   ],
   "metadata": {
    "collapsed": false
   },
   "id": "c2e4a79911d4bb21",
   "execution_count": null
  },
  {
   "cell_type": "markdown",
   "source": [
    "Upload the predictions to the challenge to get feedback on the model's performance."
   ],
   "metadata": {
    "collapsed": false
   },
   "id": "ef5401104fc8be98"
  }
 ],
 "metadata": {
  "kernelspec": {
   "display_name": "Python 3",
   "language": "python",
   "name": "python3"
  },
  "language_info": {
   "codemirror_mode": {
    "name": "ipython",
    "version": 2
   },
   "file_extension": ".py",
   "mimetype": "text/x-python",
   "name": "python",
   "nbconvert_exporter": "python",
   "pygments_lexer": "ipython2",
   "version": "2.7.6"
  }
 },
 "nbformat": 4,
 "nbformat_minor": 5
}
