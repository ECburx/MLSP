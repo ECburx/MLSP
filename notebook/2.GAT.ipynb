{
 "cells": [
  {
   "cell_type": "markdown",
   "source": [
    "## GAT"
   ],
   "metadata": {
    "collapsed": false
   },
   "id": "a07bb1f2300802b2"
  },
  {
   "cell_type": "code",
   "execution_count": 12,
   "id": "initial_id",
   "metadata": {
    "collapsed": true,
    "ExecuteTime": {
     "end_time": "2024-05-13T03:11:59.386342Z",
     "start_time": "2024-05-13T03:11:59.383594Z"
    }
   },
   "outputs": [],
   "source": [
    "import numpy as np\n",
    "import pandas as pd\n",
    "import torch\n",
    "import matplotlib.pyplot as plt\n",
    "from data.featurization.dgl_Graph import DGL_Graph\n",
    "from model.dgl.GAT import GAT\n",
    "from sklearn.metrics import root_mean_squared_error, r2_score, cohen_kappa_score\n",
    "from sklearn.model_selection import KFold\n",
    "from hyperopt import STATUS_OK, Trials, fmin, hp, tpe\n",
    "from collections import defaultdict"
   ]
  },
  {
   "cell_type": "code",
   "outputs": [],
   "source": [
    "import warnings\n",
    "\n",
    "warnings.simplefilter(action='ignore', category=FutureWarning)"
   ],
   "metadata": {
    "collapsed": false,
    "ExecuteTime": {
     "end_time": "2024-05-13T03:07:28.671567Z",
     "start_time": "2024-05-13T03:07:28.668046Z"
    }
   },
   "id": "e2b82776d4696254",
   "execution_count": 2
  },
  {
   "cell_type": "markdown",
   "source": [
    "### Regression Problems"
   ],
   "metadata": {
    "collapsed": false
   },
   "id": "308120953e0c85d"
  },
  {
   "cell_type": "code",
   "outputs": [],
   "source": [
    "trn = pd.read_csv(\"../data/trn.reg.csv.gz\", compression='gzip', low_memory=False)\n",
    "tst = pd.read_csv(\"../data/tst.reg.csv.gz\", compression='gzip', low_memory=False)\n",
    "\n",
    "trn_X = trn[\"SMILES\"]\n",
    "tst_X = tst[\"SMILES\"]\n",
    "trn_y = trn[\"LogS\"]\n",
    "tst_y = tst[\"LogS\"]"
   ],
   "metadata": {
    "collapsed": false,
    "ExecuteTime": {
     "end_time": "2024-05-13T01:45:27.200979Z",
     "start_time": "2024-05-13T01:45:22.897329Z"
    }
   },
   "id": "e898f86c24fcf6be",
   "execution_count": 3
  },
  {
   "cell_type": "code",
   "outputs": [],
   "source": [
    "featurizer = DGL_Graph(\n",
    "    graph_type=\"BI_GRAPH\",\n",
    "    featurize_type=\"Canonical\",\n",
    "    self_loop=True\n",
    ")\n",
    "trn_X = featurizer.convert(trn_X)\n",
    "tst_X = featurizer.convert(tst_X)"
   ],
   "metadata": {
    "collapsed": false,
    "ExecuteTime": {
     "end_time": "2024-05-13T01:45:44.130288Z",
     "start_time": "2024-05-13T01:45:27.200979Z"
    }
   },
   "id": "cc1e75de1f2ab897",
   "execution_count": 4
  },
  {
   "cell_type": "markdown",
   "source": [
    "Hyper-parameter Tuning."
   ],
   "metadata": {
    "collapsed": false
   },
   "id": "230d876ca7ca7634"
  },
  {
   "cell_type": "code",
   "outputs": [],
   "source": [
    "tune_space = {\n",
    "    \"num_heads\": hp.randint(\"num_heads\", 2, 6),\n",
    "    \"hidden_feats\": hp.choice(\"hidden_feats\", [[64], [64, 32], [128, 64, 32], [64, 64], [128, 64]]),\n",
    "    \"feat_drops\": hp.uniform(\"feat_drops\", 0, 1),\n",
    "    \"attn_drops\": hp.uniform(\"attn_drops\", 0, 1),\n",
    "    \"alphas\": hp.uniform(\"alphas\", 0, 1),\n",
    "    \"residuals\": hp.choice(\"residuals\", [True, False]),\n",
    "    \"agg_modes\": hp.choice(\"agg_modes\", [\"flatten\", \"mean\"]),\n",
    "    \"biases\": hp.choice(\"biases\", [True, False]),\n",
    "    \"lr\": hp.choice(\"lr\", [0.1, 0.01, 0.001]),\n",
    "    \"weight_decay\": hp.uniform(\"weight_decay\", 0, 1),\n",
    "    \"batch_size\": 128,\n",
    "}"
   ],
   "metadata": {
    "collapsed": false,
    "ExecuteTime": {
     "end_time": "2024-05-13T03:08:09.822247Z",
     "start_time": "2024-05-13T03:08:09.818166Z"
    }
   },
   "id": "f95da084f7cae765",
   "execution_count": 8
  },
  {
   "cell_type": "code",
   "outputs": [],
   "source": [
    "def tune_obj(space):\n",
    "    kf = KFold(n_splits=5, shuffle=True)\n",
    "    rmse = []\n",
    "\n",
    "    for trn_idx, val_idx in kf.split(trn_X):\n",
    "        tX, vX = trn_X[trn_idx], trn_X[val_idx]\n",
    "        ty, vy = trn_y[trn_idx], trn_y[val_idx]\n",
    "\n",
    "        model = GAT(\n",
    "            n_tasks=1,\n",
    "            in_feats=featurizer.get_node_feat_size(),\n",
    "            num_heads=space[\"num_heads\"],\n",
    "            hidden_feats=space[\"hidden_feats\"],\n",
    "            feat_drops=space[\"feat_drops\"],\n",
    "            attn_drops=space[\"attn_drops\"],\n",
    "            alphas=space[\"alphas\"],\n",
    "            residuals=space[\"residuals\"],\n",
    "            agg_modes=space[\"agg_modes\"],\n",
    "            biases=space[\"biases\"],\n",
    "            classifier_hidden_feats=128,\n",
    "            classifier_dropout=0,\n",
    "            predictor_hidden_feats=128,\n",
    "            predictor_dropout=0,\n",
    "            lr=space[\"lr\"],\n",
    "            weight_decay=space[\"weight_decay\"],\n",
    "            batch_size=128,\n",
    "        )\n",
    "        model.fit(tX, ty,\n",
    "                  epochs=800, min_epochs=400, early_stop_epochs=20, verbose=False)\n",
    "        rmse.append(root_mean_squared_error(vy, model.predict(vX).cpu()))\n",
    "\n",
    "    return {\"loss\": np.mean(rmse), 'status': STATUS_OK}"
   ],
   "metadata": {
    "collapsed": false,
    "ExecuteTime": {
     "start_time": "2024-05-12T15:52:58.318287Z"
    }
   },
   "id": "c7ccefa2594735b8",
   "execution_count": null
  },
  {
   "cell_type": "code",
   "outputs": [],
   "source": [
    "trials = Trials()\n",
    "best_params = fmin(\n",
    "    fn=tune_obj,\n",
    "    space=tune_space,\n",
    "    algo=tpe.suggest,\n",
    "    max_evals=500,\n",
    "    trials=trials\n",
    ")"
   ],
   "metadata": {
    "collapsed": false,
    "ExecuteTime": {
     "start_time": "2024-05-12T15:52:58.318287Z"
    }
   },
   "id": "387290ad55190d75",
   "execution_count": null
  },
  {
   "cell_type": "code",
   "outputs": [],
   "source": [
    "best_params"
   ],
   "metadata": {
    "collapsed": false,
    "ExecuteTime": {
     "start_time": "2024-05-12T15:52:58.319403Z"
    }
   },
   "id": "1d711278011ec719",
   "execution_count": null
  },
  {
   "cell_type": "code",
   "outputs": [],
   "source": [
    "best_params = {\n",
    "    \"num_heads\": 5,\n",
    "    \"hidden_feats\": [128, 64, 32],\n",
    "    \"feat_drops\": 0.01,\n",
    "    \"attn_drops\": 0.01,\n",
    "    \"alphas\": 0.6721585674551578,\n",
    "    \"residuals\": False,\n",
    "    \"agg_modes\": \"flatten\",\n",
    "    \"biases\": True,\n",
    "    \"lr\": 0.001,\n",
    "    \"weight_decay\": 0.01,\n",
    "    \"batch_size\": 128,\n",
    "}"
   ],
   "metadata": {
    "collapsed": false,
    "ExecuteTime": {
     "end_time": "2024-05-13T03:11:23.519121Z",
     "start_time": "2024-05-13T03:11:23.516421Z"
    }
   },
   "id": "7de0630ae909eff2",
   "execution_count": 11
  },
  {
   "cell_type": "markdown",
   "source": [
    "K-fold CV."
   ],
   "metadata": {
    "collapsed": false
   },
   "id": "1dfea910a6bc266b"
  },
  {
   "cell_type": "code",
   "outputs": [],
   "source": [
    "def k_fold_CV(n_splits=5):\n",
    "    kf = KFold(n_splits=n_splits, shuffle=True)\n",
    "    rmse, r2 = [], []\n",
    "\n",
    "    for trn_idx, val_idx in kf.split(trn_X):\n",
    "        tX, vX = trn_X[trn_idx], trn_X[val_idx]\n",
    "        ty, vy = trn_y[trn_idx], trn_y[val_idx]\n",
    "\n",
    "        model = GAT(\n",
    "            n_tasks=1,\n",
    "            in_feats=featurizer.get_node_feat_size(),\n",
    "            num_heads=best_params[\"num_heads\"],\n",
    "            hidden_feats=best_params[\"hidden_feats\"],\n",
    "            feat_drops=best_params[\"feat_drops\"],\n",
    "            attn_drops=best_params[\"attn_drops\"],\n",
    "            alphas=best_params[\"alphas\"],\n",
    "            residuals=best_params[\"residuals\"],\n",
    "            agg_modes=best_params[\"agg_modes\"],\n",
    "            biases=best_params[\"biases\"],\n",
    "            classifier_hidden_feats=256,\n",
    "            classifier_dropout=0,\n",
    "            predictor_hidden_feats=256,\n",
    "            predictor_dropout=0,\n",
    "            lr=best_params[\"lr\"],\n",
    "            weight_decay=best_params[\"weight_decay\"],\n",
    "            batch_size=128,\n",
    "        )\n",
    "        model.fit(tX, ty, val_X=vX, val_y=vy, epochs=400)\n",
    "        pred_val = model.predict(vX).cpu()\n",
    "\n",
    "        rmse.append(root_mean_squared_error(vy, pred_val))\n",
    "        r2.append(r2_score(vy, pred_val))\n",
    "\n",
    "    return pd.DataFrame({\"rmse\": rmse, \"r2\": r2})"
   ],
   "metadata": {
    "collapsed": false,
    "ExecuteTime": {
     "end_time": "2024-05-11T01:46:54.500704Z",
     "start_time": "2024-05-11T01:46:54.487525Z"
    }
   },
   "id": "56e463f14010e98b",
   "execution_count": 6
  },
  {
   "cell_type": "code",
   "outputs": [],
   "source": [
    "pd.concat([k_fold_CV() for _ in range(10)])"
   ],
   "metadata": {
    "collapsed": false
   },
   "id": "8eea52719c843b99",
   "execution_count": null
  },
  {
   "cell_type": "markdown",
   "source": [
    "Prediction and estimation."
   ],
   "metadata": {
    "collapsed": false
   },
   "id": "eb8d160646bbea77"
  },
  {
   "cell_type": "code",
   "outputs": [],
   "source": [
    "def predict():\n",
    "    kf = KFold(n_splits=5, shuffle=True)\n",
    "    prediction = []\n",
    "\n",
    "    for trn_idx, val_idx in kf.split(trn_X):\n",
    "        tX, vX = trn_X[trn_idx], trn_X[val_idx]\n",
    "        ty, vy = trn_y[trn_idx], trn_y[val_idx]\n",
    "\n",
    "        model = GAT(\n",
    "            n_tasks=1,\n",
    "            in_feats=featurizer.get_node_feat_size(),\n",
    "            num_heads=best_params[\"num_heads\"],\n",
    "            hidden_feats=best_params[\"hidden_feats\"],\n",
    "            feat_drops=best_params[\"feat_drops\"],\n",
    "            attn_drops=best_params[\"attn_drops\"],\n",
    "            alphas=best_params[\"alphas\"],\n",
    "            residuals=best_params[\"residuals\"],\n",
    "            agg_modes=best_params[\"agg_modes\"],\n",
    "            biases=best_params[\"biases\"],\n",
    "            classifier_hidden_feats=256,\n",
    "            classifier_dropout=0,\n",
    "            predictor_hidden_feats=256,\n",
    "            predictor_dropout=0,\n",
    "            lr=best_params[\"lr\"],\n",
    "            weight_decay=best_params[\"weight_decay\"],\n",
    "            batch_size=128,\n",
    "        )\n",
    "        model.fit(tX, ty, val_X=vX, val_y=vy, epochs=800, min_epochs=400, early_stop_epochs=20)\n",
    "        prediction.append(model.predict(tst_X).cpu())\n",
    "\n",
    "    return [torch.mean(pred_i).item() for pred_i in torch.cat(prediction, 1)]"
   ],
   "metadata": {
    "collapsed": false,
    "ExecuteTime": {
     "end_time": "2024-05-12T23:04:59.782742Z",
     "start_time": "2024-05-12T23:04:59.778933Z"
    }
   },
   "id": "f5d051ae73c46946",
   "execution_count": 6
  },
  {
   "cell_type": "code",
   "outputs": [],
   "source": [
    "preds = [predict() for _ in range(50)]\n",
    "preds = pd.concat([pd.Series(p) for p in preds], axis=1)"
   ],
   "metadata": {
    "collapsed": false
   },
   "id": "47f218238073a97e",
   "execution_count": null
  },
  {
   "cell_type": "code",
   "outputs": [],
   "source": [
    "rmse, r2 = defaultdict(list), defaultdict(list)\n",
    "\n",
    "for pred in [preds[c] for c in preds.columns]:\n",
    "    df = pd.DataFrame({\"pred\": pred, \"set\": tst[\"set\"], \"true\": tst[\"LogS\"]})\n",
    "    for s in df[\"set\"].unique():\n",
    "        p = df[df[\"set\"] == s]\n",
    "        rmse[s].append(root_mean_squared_error(p[\"true\"], p[\"pred\"]))\n",
    "        r2[s].append(r2_score(p[\"true\"], p[\"pred\"]))"
   ],
   "metadata": {
    "collapsed": false,
    "ExecuteTime": {
     "end_time": "2024-05-12T23:40:05.523680Z",
     "start_time": "2024-05-12T23:40:05.507840Z"
    }
   },
   "id": "dee7f7d3fc9d3153",
   "execution_count": 8
  },
  {
   "cell_type": "code",
   "outputs": [],
   "source": [
    "for s in rmse.keys():\n",
    "    print(f\"[{s}] rmse:{np.mean(rmse[s]):.2f}±{np.std(rmse[s]):.2f} r2:{np.mean(r2[s]):.2f}±{np.std(r2[s]):.2f}\")"
   ],
   "metadata": {
    "collapsed": false
   },
   "id": "b59a44a46785241b",
   "execution_count": null
  },
  {
   "cell_type": "code",
   "outputs": [],
   "source": [
    "def subplot(x, y, ax):\n",
    "    ax.scatter(x, y)\n",
    "    ax.set_xlim((min(min(x), min(y)) - 0.1, max(max(x), max(y)) + 0.1))\n",
    "    ax.set_ylim((min(min(x), min(y)) - 0.1, max(max(x), max(y)) + 0.1))\n",
    "    x0, x1 = ax.get_xlim()\n",
    "    y0, y1 = ax.get_ylim()\n",
    "    ax.set_aspect(abs(x1 - x0) / abs(y1 - y0))\n",
    "    ax.grid(which='major', linestyle='--')\n",
    "    ax.plot([min(min(x), min(y)), max(max(x), max(y))], [min(min(x), min(y)), max(max(x), max(y))], 'k')\n",
    "    a, b = np.polyfit(x, y, 1)\n",
    "    y_fit = a * x + b\n",
    "    ax.plot(x, y_fit)\n",
    "    ax.set_xlabel(\"log$S$ Experimental\")\n",
    "    ax.set_ylabel(\"log$S$ Predicted\")\n",
    "\n",
    "\n",
    "model_name = \"GAT\"\n",
    "fig, axs = plt.subplots(nrows=1, ncols=3, figsize=(5 * 3, 5))\n",
    "\n",
    "df = pd.DataFrame({\"pred\": preds.iloc[:, np.argmin(np.array(list(rmse.values())).mean(axis=0))],\n",
    "                   \"set\": tst[\"set\"], \"true\": tst[\"LogS\"]})\n",
    "for s, ax in zip(rmse.keys(), axs):\n",
    "    idx = tst[tst[\"set\"] == s].index\n",
    "    t = df[\"true\"].loc[idx]\n",
    "    p = df[\"pred\"].loc[idx]\n",
    "    subplot(t, p, ax)\n",
    "    ax.grid(False)\n",
    "    ax.set_title(f\"{s} ({model_name})   \"\n",
    "                 f\"RMSE: {root_mean_squared_error(t, p):.3f}, \"\n",
    "                 f\"R$^2$: {r2_score(t, p):.3f}\")"
   ],
   "metadata": {
    "collapsed": false
   },
   "id": "f35f33958c0d4af8",
   "execution_count": null
  },
  {
   "cell_type": "markdown",
   "source": [
    "## Classification Problem"
   ],
   "metadata": {
    "collapsed": false
   },
   "id": "ad926a61d97f5622"
  },
  {
   "cell_type": "code",
   "outputs": [],
   "source": [
    "trn = pd.concat([pd.read_csv(f\"../data/trn.EUOS-SLAS.Part{i}.csv.gz\") for i in range(1, 9)])\n",
    "tst = pd.concat([pd.read_csv(f\"../data/tst.EUOS-SLAS.Part{i}.csv.gz\") for i in range(1, 5)])\n",
    "\n",
    "trn_X = trn[\"SMILES\"]\n",
    "tst_X = tst[\"SMILES\"]\n",
    "trn_y = trn[\"solubility\"]"
   ],
   "metadata": {
    "collapsed": false,
    "ExecuteTime": {
     "end_time": "2024-05-13T03:07:33.718841Z",
     "start_time": "2024-05-13T03:07:33.626800Z"
    }
   },
   "id": "7747c2f3aa0d5ee",
   "execution_count": 3
  },
  {
   "cell_type": "code",
   "outputs": [],
   "source": [
    "featurizer = DGL_Graph(\n",
    "    graph_type=\"BI_GRAPH\",\n",
    "    featurize_type=\"Canonical\",\n",
    "    self_loop=True\n",
    ")\n",
    "trn_X = featurizer.convert(trn_X)\n",
    "tst_X = featurizer.convert(tst_X)"
   ],
   "metadata": {
    "collapsed": false,
    "ExecuteTime": {
     "end_time": "2024-05-13T03:07:33.876544Z",
     "start_time": "2024-05-13T03:07:33.812746Z"
    }
   },
   "id": "370dc40594aef7b8",
   "execution_count": 4
  },
  {
   "cell_type": "markdown",
   "source": [
    "Hyper-parameter Tuning."
   ],
   "metadata": {
    "collapsed": false
   },
   "id": "bfdc2cbfc25f5735"
  },
  {
   "cell_type": "code",
   "outputs": [],
   "source": [
    "def tune_obj(space):\n",
    "    kf = KFold(n_splits=5, shuffle=True)\n",
    "    qck = []\n",
    "\n",
    "    for trn_idx, val_idx in kf.split(trn_X):\n",
    "        tX, vX = trn_X[trn_idx], trn_X[val_idx]\n",
    "        ty, vy = trn_y[trn_idx], trn_y[val_idx]\n",
    "\n",
    "        model = GAT(\n",
    "            n_tasks=3,\n",
    "            in_feats=featurizer.get_node_feat_size(),\n",
    "            num_heads=space[\"num_heads\"],\n",
    "            hidden_feats=space[\"hidden_feats\"],\n",
    "            feat_drops=space[\"feat_drops\"],\n",
    "            attn_drops=space[\"attn_drops\"],\n",
    "            alphas=space[\"alphas\"],\n",
    "            residuals=space[\"residuals\"],\n",
    "            agg_modes=space[\"agg_modes\"],\n",
    "            biases=space[\"biases\"],\n",
    "            classifier_hidden_feats=128,\n",
    "            classifier_dropout=0,\n",
    "            predictor_hidden_feats=128,\n",
    "            predictor_dropout=0,\n",
    "            lr=space[\"lr\"],\n",
    "            weight_decay=space[\"weight_decay\"],\n",
    "            batch_size=128,\n",
    "            device=\"cuda\"\n",
    "        )\n",
    "        scores = model.fit(tX, ty,\n",
    "                           val_X=vX, val_y=vy,\n",
    "                           epochs=800, min_epochs=500, early_stop_epochs=10, verbose=False)\n",
    "        qck.append(scores[\"qck\"][-1])\n",
    "\n",
    "    return {\"loss\": np.mean(qck), 'status': STATUS_OK}"
   ],
   "metadata": {
    "collapsed": false,
    "ExecuteTime": {
     "end_time": "2024-05-13T03:08:04.337301Z",
     "start_time": "2024-05-13T03:08:04.332992Z"
    }
   },
   "id": "f395a68bbf244e35",
   "execution_count": 6
  },
  {
   "cell_type": "code",
   "outputs": [],
   "source": [
    "trials = Trials()\n",
    "best_params = fmin(\n",
    "    fn=tune_obj,\n",
    "    space=tune_space,\n",
    "    algo=tpe.suggest,\n",
    "    max_evals=500,\n",
    "    trials=trials\n",
    ")"
   ],
   "metadata": {
    "collapsed": false
   },
   "id": "c885c98ef8b904bb",
   "execution_count": null
  },
  {
   "cell_type": "code",
   "outputs": [],
   "source": [
    "best_params"
   ],
   "metadata": {
    "collapsed": false
   },
   "id": "e1eac3f54580f94b",
   "execution_count": null
  },
  {
   "cell_type": "markdown",
   "source": [
    "K-fold CV."
   ],
   "metadata": {
    "collapsed": false
   },
   "id": "665c3811dc337319"
  },
  {
   "cell_type": "code",
   "outputs": [],
   "source": [
    "def k_fold_CV(n_splits=5):\n",
    "    kf = KFold(n_splits=n_splits, shuffle=True)\n",
    "    qck = []\n",
    "\n",
    "    for trn_idx, val_idx in kf.split(trn_X):\n",
    "        tX, vX = trn_X[trn_idx], trn_X[val_idx]\n",
    "        ty, vy = trn_y[trn_idx], trn_y[val_idx]\n",
    "\n",
    "        model = GAT(\n",
    "            n_tasks=3,\n",
    "            in_feats=featurizer.get_node_feat_size(),\n",
    "            num_heads=best_params[\"num_heads\"],\n",
    "            hidden_feats=best_params[\"hidden_feats\"],\n",
    "            feat_drops=best_params[\"feat_drops\"],\n",
    "            attn_drops=best_params[\"attn_drops\"],\n",
    "            alphas=best_params[\"alphas\"],\n",
    "            residuals=best_params[\"residuals\"],\n",
    "            agg_modes=best_params[\"agg_modes\"],\n",
    "            biases=best_params[\"biases\"],\n",
    "            classifier_hidden_feats=256,\n",
    "            classifier_dropout=0,\n",
    "            predictor_hidden_feats=256,\n",
    "            predictor_dropout=0,\n",
    "            lr=best_params[\"lr\"],\n",
    "            weight_decay=best_params[\"weight_decay\"],\n",
    "            batch_size=128,\n",
    "        )\n",
    "        model.fit(tX, ty, val_X=vX, val_y=vy, epochs=400)\n",
    "        pred_val = model.predict(vX).cpu()\n",
    "        pred_val = torch.argmax(pred_val, dim=1)\n",
    "\n",
    "        qck.append(cohen_kappa_score(vy, pred_val, weights=\"quadratic\"))\n",
    "\n",
    "    return pd.DataFrame({\"qck\": qck})"
   ],
   "metadata": {
    "collapsed": false,
    "ExecuteTime": {
     "end_time": "2024-05-13T03:13:22.545431Z",
     "start_time": "2024-05-13T03:13:22.541Z"
    }
   },
   "id": "113e518876fc3509",
   "execution_count": 15
  },
  {
   "cell_type": "code",
   "outputs": [],
   "source": [
    "pd.concat([k_fold_CV() for _ in range(10)])"
   ],
   "metadata": {
    "collapsed": false
   },
   "id": "4f30e902d833a4b4",
   "execution_count": null
  },
  {
   "cell_type": "markdown",
   "source": [
    "Prediction and estimation."
   ],
   "metadata": {
    "collapsed": false
   },
   "id": "3b33b8fcaea8377e"
  },
  {
   "cell_type": "code",
   "outputs": [],
   "source": [
    "def predict():\n",
    "    kf = KFold(n_splits=5, shuffle=True)\n",
    "    prediction = []\n",
    "\n",
    "    for trn_idx, val_idx in kf.split(trn_X):\n",
    "        tX, vX = trn_X[trn_idx], trn_X[val_idx]\n",
    "        ty, vy = trn_y[trn_idx], trn_y[val_idx]\n",
    "\n",
    "        model = GAT(\n",
    "            n_tasks=1,\n",
    "            in_feats=featurizer.get_node_feat_size(),\n",
    "            num_heads=best_params[\"num_heads\"],\n",
    "            hidden_feats=best_params[\"hidden_feats\"],\n",
    "            feat_drops=best_params[\"feat_drops\"],\n",
    "            attn_drops=best_params[\"attn_drops\"],\n",
    "            alphas=best_params[\"alphas\"],\n",
    "            residuals=best_params[\"residuals\"],\n",
    "            agg_modes=best_params[\"agg_modes\"],\n",
    "            biases=best_params[\"biases\"],\n",
    "            classifier_hidden_feats=256,\n",
    "            classifier_dropout=0,\n",
    "            predictor_hidden_feats=256,\n",
    "            predictor_dropout=0,\n",
    "            lr=best_params[\"lr\"],\n",
    "            weight_decay=best_params[\"weight_decay\"],\n",
    "            batch_size=128,\n",
    "        )\n",
    "        model.fit(tX, ty, val_X=vX, val_y=vy, epochs=800, min_epochs=400, early_stop_epochs=20)\n",
    "        prediction.append(model.predict(tst_X))\n",
    "\n",
    "    return torch.argmax(torch.stack(prediction).mean(dim=0), dim=1).cpu()"
   ],
   "metadata": {
    "collapsed": false,
    "ExecuteTime": {
     "end_time": "2024-05-13T03:17:05.713672Z",
     "start_time": "2024-05-13T03:17:05.708844Z"
    }
   },
   "id": "e6cac1b63ef1c75",
   "execution_count": 17
  },
  {
   "cell_type": "code",
   "outputs": [],
   "source": [
    "preds = [predict() for _ in range(50)]\n",
    "preds = pd.DataFrame([p.numpy().tolist() for p in preds]).transpose()\n",
    "preds"
   ],
   "metadata": {
    "collapsed": false
   },
   "id": "3ca9c155c8bbbb27",
   "execution_count": null
  },
  {
   "cell_type": "markdown",
   "source": [
    "Upload the predictions to the challenge to get feedback on the model's performance."
   ],
   "metadata": {
    "collapsed": false
   },
   "id": "6f3329dcad0ad422"
  }
 ],
 "metadata": {
  "kernelspec": {
   "display_name": "Python 3",
   "language": "python",
   "name": "python3"
  },
  "language_info": {
   "codemirror_mode": {
    "name": "ipython",
    "version": 2
   },
   "file_extension": ".py",
   "mimetype": "text/x-python",
   "name": "python",
   "nbconvert_exporter": "python",
   "pygments_lexer": "ipython2",
   "version": "2.7.6"
  }
 },
 "nbformat": 4,
 "nbformat_minor": 5
}
